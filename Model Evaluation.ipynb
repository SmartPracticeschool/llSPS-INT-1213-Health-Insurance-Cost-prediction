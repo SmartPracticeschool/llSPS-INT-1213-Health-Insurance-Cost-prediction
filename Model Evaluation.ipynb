{
 "cells": [
  {
   "cell_type": "code",
   "execution_count": 1,
   "metadata": {},
   "outputs": [
    {
     "data": {
      "text/plain": [
       "'C:\\\\Users\\\\KrishBolla\\\\Desktop'"
      ]
     },
     "execution_count": 1,
     "metadata": {},
     "output_type": "execute_result"
    }
   ],
   "source": [
    "import os\n",
    "os.getcwd()"
   ]
  },
  {
   "cell_type": "code",
   "execution_count": 2,
   "metadata": {},
   "outputs": [
    {
     "data": {
      "text/plain": [
       "'C:\\\\Users\\\\KrishBolla\\\\Desktop\\\\Remote Internship 2020\\\\DataSets'"
      ]
     },
     "execution_count": 2,
     "metadata": {},
     "output_type": "execute_result"
    }
   ],
   "source": [
    "os.chdir(\"C:/Users/KrishBolla/Desktop/Remote Internship 2020/DataSets\")\n",
    "os.getcwd()"
   ]
  },
  {
   "cell_type": "code",
   "execution_count": 3,
   "metadata": {},
   "outputs": [],
   "source": [
    "import numpy as np\n",
    "import pandas as pd\n",
    "import matplotlib.pyplot as plt"
   ]
  },
  {
   "cell_type": "code",
   "execution_count": 4,
   "metadata": {},
   "outputs": [],
   "source": [
    "data1 = pd.read_csv('insurance.csv')"
   ]
  },
  {
   "cell_type": "code",
   "execution_count": 5,
   "metadata": {},
   "outputs": [
    {
     "data": {
      "text/html": [
       "<div>\n",
       "<style scoped>\n",
       "    .dataframe tbody tr th:only-of-type {\n",
       "        vertical-align: middle;\n",
       "    }\n",
       "\n",
       "    .dataframe tbody tr th {\n",
       "        vertical-align: top;\n",
       "    }\n",
       "\n",
       "    .dataframe thead th {\n",
       "        text-align: right;\n",
       "    }\n",
       "</style>\n",
       "<table border=\"1\" class=\"dataframe\">\n",
       "  <thead>\n",
       "    <tr style=\"text-align: right;\">\n",
       "      <th></th>\n",
       "      <th>age</th>\n",
       "      <th>sex</th>\n",
       "      <th>bmi</th>\n",
       "      <th>children</th>\n",
       "      <th>smoker</th>\n",
       "      <th>region</th>\n",
       "      <th>charges</th>\n",
       "    </tr>\n",
       "  </thead>\n",
       "  <tbody>\n",
       "    <tr>\n",
       "      <th>0</th>\n",
       "      <td>19</td>\n",
       "      <td>female</td>\n",
       "      <td>27.900</td>\n",
       "      <td>0</td>\n",
       "      <td>yes</td>\n",
       "      <td>southwest</td>\n",
       "      <td>16884.92400</td>\n",
       "    </tr>\n",
       "    <tr>\n",
       "      <th>1</th>\n",
       "      <td>18</td>\n",
       "      <td>male</td>\n",
       "      <td>33.770</td>\n",
       "      <td>1</td>\n",
       "      <td>no</td>\n",
       "      <td>southeast</td>\n",
       "      <td>1725.55230</td>\n",
       "    </tr>\n",
       "    <tr>\n",
       "      <th>2</th>\n",
       "      <td>28</td>\n",
       "      <td>male</td>\n",
       "      <td>33.000</td>\n",
       "      <td>3</td>\n",
       "      <td>no</td>\n",
       "      <td>southeast</td>\n",
       "      <td>4449.46200</td>\n",
       "    </tr>\n",
       "    <tr>\n",
       "      <th>3</th>\n",
       "      <td>33</td>\n",
       "      <td>male</td>\n",
       "      <td>22.705</td>\n",
       "      <td>0</td>\n",
       "      <td>no</td>\n",
       "      <td>northwest</td>\n",
       "      <td>21984.47061</td>\n",
       "    </tr>\n",
       "    <tr>\n",
       "      <th>4</th>\n",
       "      <td>32</td>\n",
       "      <td>male</td>\n",
       "      <td>28.880</td>\n",
       "      <td>0</td>\n",
       "      <td>no</td>\n",
       "      <td>northwest</td>\n",
       "      <td>3866.85520</td>\n",
       "    </tr>\n",
       "    <tr>\n",
       "      <th>...</th>\n",
       "      <td>...</td>\n",
       "      <td>...</td>\n",
       "      <td>...</td>\n",
       "      <td>...</td>\n",
       "      <td>...</td>\n",
       "      <td>...</td>\n",
       "      <td>...</td>\n",
       "    </tr>\n",
       "    <tr>\n",
       "      <th>1333</th>\n",
       "      <td>50</td>\n",
       "      <td>male</td>\n",
       "      <td>30.970</td>\n",
       "      <td>3</td>\n",
       "      <td>no</td>\n",
       "      <td>northwest</td>\n",
       "      <td>10600.54830</td>\n",
       "    </tr>\n",
       "    <tr>\n",
       "      <th>1334</th>\n",
       "      <td>18</td>\n",
       "      <td>female</td>\n",
       "      <td>31.920</td>\n",
       "      <td>0</td>\n",
       "      <td>no</td>\n",
       "      <td>northeast</td>\n",
       "      <td>2205.98080</td>\n",
       "    </tr>\n",
       "    <tr>\n",
       "      <th>1335</th>\n",
       "      <td>18</td>\n",
       "      <td>female</td>\n",
       "      <td>36.850</td>\n",
       "      <td>0</td>\n",
       "      <td>no</td>\n",
       "      <td>southeast</td>\n",
       "      <td>1629.83350</td>\n",
       "    </tr>\n",
       "    <tr>\n",
       "      <th>1336</th>\n",
       "      <td>21</td>\n",
       "      <td>female</td>\n",
       "      <td>25.800</td>\n",
       "      <td>0</td>\n",
       "      <td>no</td>\n",
       "      <td>southwest</td>\n",
       "      <td>2007.94500</td>\n",
       "    </tr>\n",
       "    <tr>\n",
       "      <th>1337</th>\n",
       "      <td>61</td>\n",
       "      <td>female</td>\n",
       "      <td>29.070</td>\n",
       "      <td>0</td>\n",
       "      <td>yes</td>\n",
       "      <td>northwest</td>\n",
       "      <td>29141.36030</td>\n",
       "    </tr>\n",
       "  </tbody>\n",
       "</table>\n",
       "<p>1338 rows × 7 columns</p>\n",
       "</div>"
      ],
      "text/plain": [
       "      age     sex     bmi  children smoker     region      charges\n",
       "0      19  female  27.900         0    yes  southwest  16884.92400\n",
       "1      18    male  33.770         1     no  southeast   1725.55230\n",
       "2      28    male  33.000         3     no  southeast   4449.46200\n",
       "3      33    male  22.705         0     no  northwest  21984.47061\n",
       "4      32    male  28.880         0     no  northwest   3866.85520\n",
       "...   ...     ...     ...       ...    ...        ...          ...\n",
       "1333   50    male  30.970         3     no  northwest  10600.54830\n",
       "1334   18  female  31.920         0     no  northeast   2205.98080\n",
       "1335   18  female  36.850         0     no  southeast   1629.83350\n",
       "1336   21  female  25.800         0     no  southwest   2007.94500\n",
       "1337   61  female  29.070         0    yes  northwest  29141.36030\n",
       "\n",
       "[1338 rows x 7 columns]"
      ]
     },
     "execution_count": 5,
     "metadata": {},
     "output_type": "execute_result"
    }
   ],
   "source": [
    "data1"
   ]
  },
  {
   "cell_type": "markdown",
   "metadata": {},
   "source": [
    "# Treating Missing Values"
   ]
  },
  {
   "cell_type": "code",
   "execution_count": 6,
   "metadata": {},
   "outputs": [
    {
     "data": {
      "text/plain": [
       "age         False\n",
       "sex         False\n",
       "bmi         False\n",
       "children    False\n",
       "smoker      False\n",
       "region      False\n",
       "charges     False\n",
       "dtype: bool"
      ]
     },
     "execution_count": 6,
     "metadata": {},
     "output_type": "execute_result"
    }
   ],
   "source": [
    "data1.isnull().any()"
   ]
  },
  {
   "cell_type": "code",
   "execution_count": 7,
   "metadata": {},
   "outputs": [],
   "source": [
    "# Since there is no particular column has missing values \n",
    " # it is showing as false...."
   ]
  },
  {
   "cell_type": "markdown",
   "metadata": {},
   "source": [
    "# Label Encoding"
   ]
  },
  {
   "cell_type": "code",
   "execution_count": 8,
   "metadata": {},
   "outputs": [],
   "source": [
    "from sklearn.preprocessing import LabelEncoder\n",
    "labelencoder_y = LabelEncoder()\n",
    "data1['region'] = labelencoder_y.fit_transform(data1['region'])"
   ]
  },
  {
   "cell_type": "code",
   "execution_count": 9,
   "metadata": {},
   "outputs": [
    {
     "data": {
      "text/html": [
       "<div>\n",
       "<style scoped>\n",
       "    .dataframe tbody tr th:only-of-type {\n",
       "        vertical-align: middle;\n",
       "    }\n",
       "\n",
       "    .dataframe tbody tr th {\n",
       "        vertical-align: top;\n",
       "    }\n",
       "\n",
       "    .dataframe thead th {\n",
       "        text-align: right;\n",
       "    }\n",
       "</style>\n",
       "<table border=\"1\" class=\"dataframe\">\n",
       "  <thead>\n",
       "    <tr style=\"text-align: right;\">\n",
       "      <th></th>\n",
       "      <th>age</th>\n",
       "      <th>sex</th>\n",
       "      <th>bmi</th>\n",
       "      <th>children</th>\n",
       "      <th>smoker</th>\n",
       "      <th>region</th>\n",
       "      <th>charges</th>\n",
       "    </tr>\n",
       "  </thead>\n",
       "  <tbody>\n",
       "    <tr>\n",
       "      <th>0</th>\n",
       "      <td>19</td>\n",
       "      <td>female</td>\n",
       "      <td>27.900</td>\n",
       "      <td>0</td>\n",
       "      <td>yes</td>\n",
       "      <td>3</td>\n",
       "      <td>16884.92400</td>\n",
       "    </tr>\n",
       "    <tr>\n",
       "      <th>1</th>\n",
       "      <td>18</td>\n",
       "      <td>male</td>\n",
       "      <td>33.770</td>\n",
       "      <td>1</td>\n",
       "      <td>no</td>\n",
       "      <td>2</td>\n",
       "      <td>1725.55230</td>\n",
       "    </tr>\n",
       "    <tr>\n",
       "      <th>2</th>\n",
       "      <td>28</td>\n",
       "      <td>male</td>\n",
       "      <td>33.000</td>\n",
       "      <td>3</td>\n",
       "      <td>no</td>\n",
       "      <td>2</td>\n",
       "      <td>4449.46200</td>\n",
       "    </tr>\n",
       "    <tr>\n",
       "      <th>3</th>\n",
       "      <td>33</td>\n",
       "      <td>male</td>\n",
       "      <td>22.705</td>\n",
       "      <td>0</td>\n",
       "      <td>no</td>\n",
       "      <td>1</td>\n",
       "      <td>21984.47061</td>\n",
       "    </tr>\n",
       "    <tr>\n",
       "      <th>4</th>\n",
       "      <td>32</td>\n",
       "      <td>male</td>\n",
       "      <td>28.880</td>\n",
       "      <td>0</td>\n",
       "      <td>no</td>\n",
       "      <td>1</td>\n",
       "      <td>3866.85520</td>\n",
       "    </tr>\n",
       "    <tr>\n",
       "      <th>...</th>\n",
       "      <td>...</td>\n",
       "      <td>...</td>\n",
       "      <td>...</td>\n",
       "      <td>...</td>\n",
       "      <td>...</td>\n",
       "      <td>...</td>\n",
       "      <td>...</td>\n",
       "    </tr>\n",
       "    <tr>\n",
       "      <th>1333</th>\n",
       "      <td>50</td>\n",
       "      <td>male</td>\n",
       "      <td>30.970</td>\n",
       "      <td>3</td>\n",
       "      <td>no</td>\n",
       "      <td>1</td>\n",
       "      <td>10600.54830</td>\n",
       "    </tr>\n",
       "    <tr>\n",
       "      <th>1334</th>\n",
       "      <td>18</td>\n",
       "      <td>female</td>\n",
       "      <td>31.920</td>\n",
       "      <td>0</td>\n",
       "      <td>no</td>\n",
       "      <td>0</td>\n",
       "      <td>2205.98080</td>\n",
       "    </tr>\n",
       "    <tr>\n",
       "      <th>1335</th>\n",
       "      <td>18</td>\n",
       "      <td>female</td>\n",
       "      <td>36.850</td>\n",
       "      <td>0</td>\n",
       "      <td>no</td>\n",
       "      <td>2</td>\n",
       "      <td>1629.83350</td>\n",
       "    </tr>\n",
       "    <tr>\n",
       "      <th>1336</th>\n",
       "      <td>21</td>\n",
       "      <td>female</td>\n",
       "      <td>25.800</td>\n",
       "      <td>0</td>\n",
       "      <td>no</td>\n",
       "      <td>3</td>\n",
       "      <td>2007.94500</td>\n",
       "    </tr>\n",
       "    <tr>\n",
       "      <th>1337</th>\n",
       "      <td>61</td>\n",
       "      <td>female</td>\n",
       "      <td>29.070</td>\n",
       "      <td>0</td>\n",
       "      <td>yes</td>\n",
       "      <td>1</td>\n",
       "      <td>29141.36030</td>\n",
       "    </tr>\n",
       "  </tbody>\n",
       "</table>\n",
       "<p>1338 rows × 7 columns</p>\n",
       "</div>"
      ],
      "text/plain": [
       "      age     sex     bmi  children smoker  region      charges\n",
       "0      19  female  27.900         0    yes       3  16884.92400\n",
       "1      18    male  33.770         1     no       2   1725.55230\n",
       "2      28    male  33.000         3     no       2   4449.46200\n",
       "3      33    male  22.705         0     no       1  21984.47061\n",
       "4      32    male  28.880         0     no       1   3866.85520\n",
       "...   ...     ...     ...       ...    ...     ...          ...\n",
       "1333   50    male  30.970         3     no       1  10600.54830\n",
       "1334   18  female  31.920         0     no       0   2205.98080\n",
       "1335   18  female  36.850         0     no       2   1629.83350\n",
       "1336   21  female  25.800         0     no       3   2007.94500\n",
       "1337   61  female  29.070         0    yes       1  29141.36030\n",
       "\n",
       "[1338 rows x 7 columns]"
      ]
     },
     "execution_count": 9,
     "metadata": {},
     "output_type": "execute_result"
    }
   ],
   "source": [
    "data1"
   ]
  },
  {
   "cell_type": "code",
   "execution_count": 10,
   "metadata": {},
   "outputs": [],
   "source": [
    "from sklearn.preprocessing import LabelEncoder\n",
    "labelencoder_y = LabelEncoder()\n",
    "data1['smoker'] = labelencoder_y.fit_transform(data1['smoker'])"
   ]
  },
  {
   "cell_type": "code",
   "execution_count": 11,
   "metadata": {},
   "outputs": [
    {
     "data": {
      "text/html": [
       "<div>\n",
       "<style scoped>\n",
       "    .dataframe tbody tr th:only-of-type {\n",
       "        vertical-align: middle;\n",
       "    }\n",
       "\n",
       "    .dataframe tbody tr th {\n",
       "        vertical-align: top;\n",
       "    }\n",
       "\n",
       "    .dataframe thead th {\n",
       "        text-align: right;\n",
       "    }\n",
       "</style>\n",
       "<table border=\"1\" class=\"dataframe\">\n",
       "  <thead>\n",
       "    <tr style=\"text-align: right;\">\n",
       "      <th></th>\n",
       "      <th>age</th>\n",
       "      <th>sex</th>\n",
       "      <th>bmi</th>\n",
       "      <th>children</th>\n",
       "      <th>smoker</th>\n",
       "      <th>region</th>\n",
       "      <th>charges</th>\n",
       "    </tr>\n",
       "  </thead>\n",
       "  <tbody>\n",
       "    <tr>\n",
       "      <th>0</th>\n",
       "      <td>19</td>\n",
       "      <td>female</td>\n",
       "      <td>27.900</td>\n",
       "      <td>0</td>\n",
       "      <td>1</td>\n",
       "      <td>3</td>\n",
       "      <td>16884.92400</td>\n",
       "    </tr>\n",
       "    <tr>\n",
       "      <th>1</th>\n",
       "      <td>18</td>\n",
       "      <td>male</td>\n",
       "      <td>33.770</td>\n",
       "      <td>1</td>\n",
       "      <td>0</td>\n",
       "      <td>2</td>\n",
       "      <td>1725.55230</td>\n",
       "    </tr>\n",
       "    <tr>\n",
       "      <th>2</th>\n",
       "      <td>28</td>\n",
       "      <td>male</td>\n",
       "      <td>33.000</td>\n",
       "      <td>3</td>\n",
       "      <td>0</td>\n",
       "      <td>2</td>\n",
       "      <td>4449.46200</td>\n",
       "    </tr>\n",
       "    <tr>\n",
       "      <th>3</th>\n",
       "      <td>33</td>\n",
       "      <td>male</td>\n",
       "      <td>22.705</td>\n",
       "      <td>0</td>\n",
       "      <td>0</td>\n",
       "      <td>1</td>\n",
       "      <td>21984.47061</td>\n",
       "    </tr>\n",
       "    <tr>\n",
       "      <th>4</th>\n",
       "      <td>32</td>\n",
       "      <td>male</td>\n",
       "      <td>28.880</td>\n",
       "      <td>0</td>\n",
       "      <td>0</td>\n",
       "      <td>1</td>\n",
       "      <td>3866.85520</td>\n",
       "    </tr>\n",
       "    <tr>\n",
       "      <th>...</th>\n",
       "      <td>...</td>\n",
       "      <td>...</td>\n",
       "      <td>...</td>\n",
       "      <td>...</td>\n",
       "      <td>...</td>\n",
       "      <td>...</td>\n",
       "      <td>...</td>\n",
       "    </tr>\n",
       "    <tr>\n",
       "      <th>1333</th>\n",
       "      <td>50</td>\n",
       "      <td>male</td>\n",
       "      <td>30.970</td>\n",
       "      <td>3</td>\n",
       "      <td>0</td>\n",
       "      <td>1</td>\n",
       "      <td>10600.54830</td>\n",
       "    </tr>\n",
       "    <tr>\n",
       "      <th>1334</th>\n",
       "      <td>18</td>\n",
       "      <td>female</td>\n",
       "      <td>31.920</td>\n",
       "      <td>0</td>\n",
       "      <td>0</td>\n",
       "      <td>0</td>\n",
       "      <td>2205.98080</td>\n",
       "    </tr>\n",
       "    <tr>\n",
       "      <th>1335</th>\n",
       "      <td>18</td>\n",
       "      <td>female</td>\n",
       "      <td>36.850</td>\n",
       "      <td>0</td>\n",
       "      <td>0</td>\n",
       "      <td>2</td>\n",
       "      <td>1629.83350</td>\n",
       "    </tr>\n",
       "    <tr>\n",
       "      <th>1336</th>\n",
       "      <td>21</td>\n",
       "      <td>female</td>\n",
       "      <td>25.800</td>\n",
       "      <td>0</td>\n",
       "      <td>0</td>\n",
       "      <td>3</td>\n",
       "      <td>2007.94500</td>\n",
       "    </tr>\n",
       "    <tr>\n",
       "      <th>1337</th>\n",
       "      <td>61</td>\n",
       "      <td>female</td>\n",
       "      <td>29.070</td>\n",
       "      <td>0</td>\n",
       "      <td>1</td>\n",
       "      <td>1</td>\n",
       "      <td>29141.36030</td>\n",
       "    </tr>\n",
       "  </tbody>\n",
       "</table>\n",
       "<p>1338 rows × 7 columns</p>\n",
       "</div>"
      ],
      "text/plain": [
       "      age     sex     bmi  children  smoker  region      charges\n",
       "0      19  female  27.900         0       1       3  16884.92400\n",
       "1      18    male  33.770         1       0       2   1725.55230\n",
       "2      28    male  33.000         3       0       2   4449.46200\n",
       "3      33    male  22.705         0       0       1  21984.47061\n",
       "4      32    male  28.880         0       0       1   3866.85520\n",
       "...   ...     ...     ...       ...     ...     ...          ...\n",
       "1333   50    male  30.970         3       0       1  10600.54830\n",
       "1334   18  female  31.920         0       0       0   2205.98080\n",
       "1335   18  female  36.850         0       0       2   1629.83350\n",
       "1336   21  female  25.800         0       0       3   2007.94500\n",
       "1337   61  female  29.070         0       1       1  29141.36030\n",
       "\n",
       "[1338 rows x 7 columns]"
      ]
     },
     "execution_count": 11,
     "metadata": {},
     "output_type": "execute_result"
    }
   ],
   "source": [
    "data1"
   ]
  },
  {
   "cell_type": "code",
   "execution_count": 12,
   "metadata": {},
   "outputs": [],
   "source": [
    "from sklearn.preprocessing import LabelEncoder\n",
    "labelencoder_y = LabelEncoder()\n",
    "data1['sex'] = labelencoder_y.fit_transform(data1['sex'])"
   ]
  },
  {
   "cell_type": "code",
   "execution_count": 13,
   "metadata": {},
   "outputs": [
    {
     "data": {
      "text/html": [
       "<div>\n",
       "<style scoped>\n",
       "    .dataframe tbody tr th:only-of-type {\n",
       "        vertical-align: middle;\n",
       "    }\n",
       "\n",
       "    .dataframe tbody tr th {\n",
       "        vertical-align: top;\n",
       "    }\n",
       "\n",
       "    .dataframe thead th {\n",
       "        text-align: right;\n",
       "    }\n",
       "</style>\n",
       "<table border=\"1\" class=\"dataframe\">\n",
       "  <thead>\n",
       "    <tr style=\"text-align: right;\">\n",
       "      <th></th>\n",
       "      <th>age</th>\n",
       "      <th>sex</th>\n",
       "      <th>bmi</th>\n",
       "      <th>children</th>\n",
       "      <th>smoker</th>\n",
       "      <th>region</th>\n",
       "      <th>charges</th>\n",
       "    </tr>\n",
       "  </thead>\n",
       "  <tbody>\n",
       "    <tr>\n",
       "      <th>0</th>\n",
       "      <td>19</td>\n",
       "      <td>0</td>\n",
       "      <td>27.900</td>\n",
       "      <td>0</td>\n",
       "      <td>1</td>\n",
       "      <td>3</td>\n",
       "      <td>16884.92400</td>\n",
       "    </tr>\n",
       "    <tr>\n",
       "      <th>1</th>\n",
       "      <td>18</td>\n",
       "      <td>1</td>\n",
       "      <td>33.770</td>\n",
       "      <td>1</td>\n",
       "      <td>0</td>\n",
       "      <td>2</td>\n",
       "      <td>1725.55230</td>\n",
       "    </tr>\n",
       "    <tr>\n",
       "      <th>2</th>\n",
       "      <td>28</td>\n",
       "      <td>1</td>\n",
       "      <td>33.000</td>\n",
       "      <td>3</td>\n",
       "      <td>0</td>\n",
       "      <td>2</td>\n",
       "      <td>4449.46200</td>\n",
       "    </tr>\n",
       "    <tr>\n",
       "      <th>3</th>\n",
       "      <td>33</td>\n",
       "      <td>1</td>\n",
       "      <td>22.705</td>\n",
       "      <td>0</td>\n",
       "      <td>0</td>\n",
       "      <td>1</td>\n",
       "      <td>21984.47061</td>\n",
       "    </tr>\n",
       "    <tr>\n",
       "      <th>4</th>\n",
       "      <td>32</td>\n",
       "      <td>1</td>\n",
       "      <td>28.880</td>\n",
       "      <td>0</td>\n",
       "      <td>0</td>\n",
       "      <td>1</td>\n",
       "      <td>3866.85520</td>\n",
       "    </tr>\n",
       "  </tbody>\n",
       "</table>\n",
       "</div>"
      ],
      "text/plain": [
       "   age  sex     bmi  children  smoker  region      charges\n",
       "0   19    0  27.900         0       1       3  16884.92400\n",
       "1   18    1  33.770         1       0       2   1725.55230\n",
       "2   28    1  33.000         3       0       2   4449.46200\n",
       "3   33    1  22.705         0       0       1  21984.47061\n",
       "4   32    1  28.880         0       0       1   3866.85520"
      ]
     },
     "execution_count": 13,
     "metadata": {},
     "output_type": "execute_result"
    }
   ],
   "source": [
    "data1.head()"
   ]
  },
  {
   "cell_type": "code",
   "execution_count": 14,
   "metadata": {},
   "outputs": [],
   "source": [
    "# splitting dataset in to Independent variable and dependent variable"
   ]
  },
  {
   "cell_type": "code",
   "execution_count": 15,
   "metadata": {},
   "outputs": [],
   "source": [
    "x = data1.iloc[:, 0:6].values\n",
    "y = data1.iloc[:, 6].values"
   ]
  },
  {
   "cell_type": "code",
   "execution_count": 16,
   "metadata": {},
   "outputs": [
    {
     "data": {
      "text/plain": [
       "array([[19.  ,  0.  , 27.9 ,  0.  ,  1.  ,  3.  ],\n",
       "       [18.  ,  1.  , 33.77,  1.  ,  0.  ,  2.  ],\n",
       "       [28.  ,  1.  , 33.  ,  3.  ,  0.  ,  2.  ],\n",
       "       ...,\n",
       "       [18.  ,  0.  , 36.85,  0.  ,  0.  ,  2.  ],\n",
       "       [21.  ,  0.  , 25.8 ,  0.  ,  0.  ,  3.  ],\n",
       "       [61.  ,  0.  , 29.07,  0.  ,  1.  ,  1.  ]])"
      ]
     },
     "execution_count": 16,
     "metadata": {},
     "output_type": "execute_result"
    }
   ],
   "source": [
    "x"
   ]
  },
  {
   "cell_type": "code",
   "execution_count": 17,
   "metadata": {},
   "outputs": [
    {
     "data": {
      "text/plain": [
       "array([16884.924 ,  1725.5523,  4449.462 , ...,  1629.8335,  2007.945 ,\n",
       "       29141.3603])"
      ]
     },
     "execution_count": 17,
     "metadata": {},
     "output_type": "execute_result"
    }
   ],
   "source": [
    "y"
   ]
  },
  {
   "cell_type": "markdown",
   "metadata": {},
   "source": [
    "# one Hot Encoding"
   ]
  },
  {
   "cell_type": "code",
   "execution_count": 18,
   "metadata": {},
   "outputs": [
    {
     "ename": "TypeError",
     "evalue": "__init__() got an unexpected keyword argument 'categorical_features'",
     "output_type": "error",
     "traceback": [
      "\u001b[1;31m---------------------------------------------------------------------------\u001b[0m",
      "\u001b[1;31mTypeError\u001b[0m                                 Traceback (most recent call last)",
      "\u001b[1;32m<ipython-input-18-216f098ef53e>\u001b[0m in \u001b[0;36m<module>\u001b[1;34m\u001b[0m\n\u001b[0;32m      1\u001b[0m \u001b[1;32mfrom\u001b[0m \u001b[0msklearn\u001b[0m\u001b[1;33m.\u001b[0m\u001b[0mpreprocessing\u001b[0m \u001b[1;32mimport\u001b[0m \u001b[0mOneHotEncoder\u001b[0m\u001b[1;33m\u001b[0m\u001b[1;33m\u001b[0m\u001b[0m\n\u001b[1;32m----> 2\u001b[1;33m \u001b[0monehotencoder\u001b[0m\u001b[1;33m=\u001b[0m\u001b[0mOneHotEncoder\u001b[0m\u001b[1;33m(\u001b[0m\u001b[0mcategorical_features\u001b[0m\u001b[1;33m=\u001b[0m\u001b[1;33m[\u001b[0m\u001b[1;36m1\u001b[0m\u001b[1;33m,\u001b[0m\u001b[1;36m4\u001b[0m\u001b[1;33m,\u001b[0m\u001b[1;36m5\u001b[0m\u001b[1;33m]\u001b[0m\u001b[1;33m)\u001b[0m\u001b[1;33m\u001b[0m\u001b[1;33m\u001b[0m\u001b[0m\n\u001b[0m\u001b[0;32m      3\u001b[0m \u001b[0mx\u001b[0m\u001b[1;33m=\u001b[0m\u001b[0monehotencoder\u001b[0m\u001b[1;33m.\u001b[0m\u001b[0mfit_transform\u001b[0m\u001b[1;33m(\u001b[0m\u001b[0mx\u001b[0m\u001b[1;33m)\u001b[0m\u001b[1;33m.\u001b[0m\u001b[0mtoarray\u001b[0m\u001b[1;33m(\u001b[0m\u001b[1;33m)\u001b[0m\u001b[1;33m\u001b[0m\u001b[1;33m\u001b[0m\u001b[0m\n",
      "\u001b[1;31mTypeError\u001b[0m: __init__() got an unexpected keyword argument 'categorical_features'"
     ]
    }
   ],
   "source": [
    "from sklearn.preprocessing import OneHotEncoder\n",
    "onehotencoder=OneHotEncoder(categorical_features=[1,4,5])\n",
    "x=onehotencoder.fit_transform(x).toarray()"
   ]
  },
  {
   "cell_type": "code",
   "execution_count": 19,
   "metadata": {},
   "outputs": [
    {
     "data": {
      "text/plain": [
       "array([[19.   ,  0.   , 27.9  ,  0.   ,  1.   ,  3.   ],\n",
       "       [18.   ,  1.   , 33.77 ,  1.   ,  0.   ,  2.   ],\n",
       "       [28.   ,  1.   , 33.   ,  3.   ,  0.   ,  2.   ],\n",
       "       [33.   ,  1.   , 22.705,  0.   ,  0.   ,  1.   ],\n",
       "       [32.   ,  1.   , 28.88 ,  0.   ,  0.   ,  1.   ]])"
      ]
     },
     "execution_count": 19,
     "metadata": {},
     "output_type": "execute_result"
    }
   ],
   "source": [
    "x[:5,:]"
   ]
  },
  {
   "cell_type": "markdown",
   "metadata": {},
   "source": [
    "# Splitting The dataset in to Train set and Testing set"
   ]
  },
  {
   "cell_type": "code",
   "execution_count": 20,
   "metadata": {},
   "outputs": [],
   "source": [
    "from sklearn.model_selection import train_test_split \n",
    "X_train,X_test,y_train,y_test = train_test_split(x,y,test_size = 0.3,random_state = 0)"
   ]
  },
  {
   "cell_type": "markdown",
   "metadata": {},
   "source": [
    "# Feature Scaling"
   ]
  },
  {
   "cell_type": "code",
   "execution_count": 21,
   "metadata": {},
   "outputs": [],
   "source": [
    "from sklearn.preprocessing import StandardScaler\n",
    "sc = StandardScaler()\n",
    "X_train = sc.fit_transform(X_train)\n",
    "X_test = sc.transform(X_test)"
   ]
  },
  {
   "cell_type": "code",
   "execution_count": 22,
   "metadata": {},
   "outputs": [
    {
     "data": {
      "text/plain": [
       "array([[-1.5330973 , -0.97676557, -0.40713453, -0.89833872, -0.50466988,\n",
       "        -1.40820029],\n",
       "       [-0.03364163, -0.97676557,  0.32855417, -0.89833872, -0.50466988,\n",
       "         1.31322188],\n",
       "       [ 0.89459283, -0.97676557,  2.56690911,  3.25603402, -0.50466988,\n",
       "         0.40608116],\n",
       "       ...,\n",
       "       [ 0.03776102,  1.02378711, -0.91016269, -0.89833872, -0.50466988,\n",
       "         0.40608116],\n",
       "       [-1.46169465,  1.02378711,  0.76659782, -0.89833872, -0.50466988,\n",
       "        -0.50105957],\n",
       "       [-0.46205754, -0.97676557, -1.96596021, -0.06746417, -0.50466988,\n",
       "         1.31322188]])"
      ]
     },
     "execution_count": 22,
     "metadata": {},
     "output_type": "execute_result"
    }
   ],
   "source": [
    "X_train"
   ]
  },
  {
   "cell_type": "code",
   "execution_count": 23,
   "metadata": {},
   "outputs": [
    {
     "data": {
      "text/plain": [
       "array([[ 0.89459283,  1.02378711, -0.08863026, -0.06746417, -0.50466988,\n",
       "         1.31322188],\n",
       "       [ 0.53757957, -0.97676557, -0.22180837, -0.06746417, -0.50466988,\n",
       "         0.40608116],\n",
       "       [ 0.60898222,  1.02378711,  1.57449152,  0.76341038,  1.98149332,\n",
       "        -0.50105957],\n",
       "       ...,\n",
       "       [ 1.10880078,  1.02378711,  1.20785059, -0.89833872, -0.50466988,\n",
       "         0.40608116],\n",
       "       [ 1.75142463,  1.02378711,  1.34905148, -0.06746417, -0.50466988,\n",
       "         0.40608116],\n",
       "       [ 1.60861933, -0.97676557, -0.92299913, -0.89833872, -0.50466988,\n",
       "         1.31322188]])"
      ]
     },
     "execution_count": 23,
     "metadata": {},
     "output_type": "execute_result"
    }
   ],
   "source": [
    "X_test"
   ]
  },
  {
   "cell_type": "markdown",
   "metadata": {},
   "source": [
    "# Training and Testing the models"
   ]
  },
  {
   "cell_type": "code",
   "execution_count": 24,
   "metadata": {},
   "outputs": [],
   "source": [
    "X = X_train\n",
    "y = y_train"
   ]
  },
  {
   "cell_type": "markdown",
   "metadata": {},
   "source": [
    "# Multiple Linear Regression"
   ]
  },
  {
   "cell_type": "code",
   "execution_count": 25,
   "metadata": {},
   "outputs": [
    {
     "data": {
      "text/html": [
       "<table class=\"simpletable\">\n",
       "<caption>OLS Regression Results</caption>\n",
       "<tr>\n",
       "  <th>Dep. Variable:</th>            <td>y</td>        <th>  R-squared (uncentered):</th>      <td>   0.326</td> \n",
       "</tr>\n",
       "<tr>\n",
       "  <th>Model:</th>                   <td>OLS</td>       <th>  Adj. R-squared (uncentered):</th> <td>   0.322</td> \n",
       "</tr>\n",
       "<tr>\n",
       "  <th>Method:</th>             <td>Least Squares</td>  <th>  F-statistic:       </th>          <td>   74.94</td> \n",
       "</tr>\n",
       "<tr>\n",
       "  <th>Date:</th>             <td>Fri, 15 May 2020</td> <th>  Prob (F-statistic):</th>          <td>2.65e-76</td> \n",
       "</tr>\n",
       "<tr>\n",
       "  <th>Time:</th>                 <td>11:39:40</td>     <th>  Log-Likelihood:    </th>          <td> -10303.</td> \n",
       "</tr>\n",
       "<tr>\n",
       "  <th>No. Observations:</th>      <td>   936</td>      <th>  AIC:               </th>          <td>2.062e+04</td>\n",
       "</tr>\n",
       "<tr>\n",
       "  <th>Df Residuals:</th>          <td>   930</td>      <th>  BIC:               </th>          <td>2.065e+04</td>\n",
       "</tr>\n",
       "<tr>\n",
       "  <th>Df Model:</th>              <td>     6</td>      <th>                     </th>              <td> </td>    \n",
       "</tr>\n",
       "<tr>\n",
       "  <th>Covariance Type:</th>      <td>nonrobust</td>    <th>                     </th>              <td> </td>    \n",
       "</tr>\n",
       "</table>\n",
       "<table class=\"simpletable\">\n",
       "<tr>\n",
       "   <td></td>     <th>coef</th>     <th>std err</th>      <th>t</th>      <th>P>|t|</th>  <th>[0.025</th>    <th>0.975]</th>  \n",
       "</tr>\n",
       "<tr>\n",
       "  <th>x1</th> <td> 3593.3857</td> <td>  484.469</td> <td>    7.417</td> <td> 0.000</td> <td> 2642.607</td> <td> 4544.165</td>\n",
       "</tr>\n",
       "<tr>\n",
       "  <th>x2</th> <td>  -24.6893</td> <td>  479.994</td> <td>   -0.051</td> <td> 0.959</td> <td> -966.687</td> <td>  917.309</td>\n",
       "</tr>\n",
       "<tr>\n",
       "  <th>x3</th> <td> 2050.5605</td> <td>  488.777</td> <td>    4.195</td> <td> 0.000</td> <td> 1091.327</td> <td> 3009.794</td>\n",
       "</tr>\n",
       "<tr>\n",
       "  <th>x4</th> <td>  576.6033</td> <td>  480.030</td> <td>    1.201</td> <td> 0.230</td> <td> -365.464</td> <td> 1518.670</td>\n",
       "</tr>\n",
       "<tr>\n",
       "  <th>x5</th> <td> 9412.2074</td> <td>  480.855</td> <td>   19.574</td> <td> 0.000</td> <td> 8468.522</td> <td> 1.04e+04</td>\n",
       "</tr>\n",
       "<tr>\n",
       "  <th>x6</th> <td> -304.6008</td> <td>  485.915</td> <td>   -0.627</td> <td> 0.531</td> <td>-1258.218</td> <td>  649.016</td>\n",
       "</tr>\n",
       "</table>\n",
       "<table class=\"simpletable\">\n",
       "<tr>\n",
       "  <th>Omnibus:</th>       <td>231.712</td> <th>  Durbin-Watson:     </th> <td>   0.365</td> \n",
       "</tr>\n",
       "<tr>\n",
       "  <th>Prob(Omnibus):</th> <td> 0.000</td>  <th>  Jarque-Bera (JB):  </th> <td> 565.807</td> \n",
       "</tr>\n",
       "<tr>\n",
       "  <th>Skew:</th>          <td> 1.305</td>  <th>  Prob(JB):          </th> <td>1.37e-123</td>\n",
       "</tr>\n",
       "<tr>\n",
       "  <th>Kurtosis:</th>      <td> 5.774</td>  <th>  Cond. No.          </th> <td>    1.25</td> \n",
       "</tr>\n",
       "</table><br/><br/>Warnings:<br/>[1] Standard Errors assume that the covariance matrix of the errors is correctly specified."
      ],
      "text/plain": [
       "<class 'statsmodels.iolib.summary.Summary'>\n",
       "\"\"\"\n",
       "                                 OLS Regression Results                                \n",
       "=======================================================================================\n",
       "Dep. Variable:                      y   R-squared (uncentered):                   0.326\n",
       "Model:                            OLS   Adj. R-squared (uncentered):              0.322\n",
       "Method:                 Least Squares   F-statistic:                              74.94\n",
       "Date:                Fri, 15 May 2020   Prob (F-statistic):                    2.65e-76\n",
       "Time:                        11:39:40   Log-Likelihood:                         -10303.\n",
       "No. Observations:                 936   AIC:                                  2.062e+04\n",
       "Df Residuals:                     930   BIC:                                  2.065e+04\n",
       "Df Model:                           6                                                  \n",
       "Covariance Type:            nonrobust                                                  \n",
       "==============================================================================\n",
       "                 coef    std err          t      P>|t|      [0.025      0.975]\n",
       "------------------------------------------------------------------------------\n",
       "x1          3593.3857    484.469      7.417      0.000    2642.607    4544.165\n",
       "x2           -24.6893    479.994     -0.051      0.959    -966.687     917.309\n",
       "x3          2050.5605    488.777      4.195      0.000    1091.327    3009.794\n",
       "x4           576.6033    480.030      1.201      0.230    -365.464    1518.670\n",
       "x5          9412.2074    480.855     19.574      0.000    8468.522    1.04e+04\n",
       "x6          -304.6008    485.915     -0.627      0.531   -1258.218     649.016\n",
       "==============================================================================\n",
       "Omnibus:                      231.712   Durbin-Watson:                   0.365\n",
       "Prob(Omnibus):                  0.000   Jarque-Bera (JB):              565.807\n",
       "Skew:                           1.305   Prob(JB):                    1.37e-123\n",
       "Kurtosis:                       5.774   Cond. No.                         1.25\n",
       "==============================================================================\n",
       "\n",
       "Warnings:\n",
       "[1] Standard Errors assume that the covariance matrix of the errors is correctly specified.\n",
       "\"\"\""
      ]
     },
     "execution_count": 25,
     "metadata": {},
     "output_type": "execute_result"
    }
   ],
   "source": [
    "import statsmodels.api as sm\n",
    "model1 = sm.OLS(y,X).fit()\n",
    "predictions = model1.predict(X)\n",
    "model1.summary()"
   ]
  },
  {
   "cell_type": "markdown",
   "metadata": {},
   "source": [
    "# Multiple Linear Regression with sklearn"
   ]
  },
  {
   "cell_type": "code",
   "execution_count": 26,
   "metadata": {},
   "outputs": [],
   "source": [
    "from sklearn import linear_model as lm\n",
    "model=lm.LinearRegression()\n",
    "results=model.fit(X,y) "
   ]
  },
  {
   "cell_type": "code",
   "execution_count": 27,
   "metadata": {},
   "outputs": [],
   "source": [
    "predictions = model.predict(X)"
   ]
  },
  {
   "cell_type": "code",
   "execution_count": 28,
   "metadata": {},
   "outputs": [
    {
     "name": "stdout",
     "output_type": "stream",
     "text": [
      "Accuracy of the model: 0.7306840408360218\n"
     ]
    }
   ],
   "source": [
    "accuracy=model.score(X,y)\n",
    "print('Accuracy of the model:', accuracy)"
   ]
  },
  {
   "cell_type": "code",
   "execution_count": 29,
   "metadata": {},
   "outputs": [],
   "source": [
    "y_=model.predict(X_test)"
   ]
  },
  {
   "cell_type": "code",
   "execution_count": 30,
   "metadata": {},
   "outputs": [
    {
     "data": {
      "text/plain": [
       "array([11051.54909755,  9821.28110689, 37867.57220923, 16125.70579228,\n",
       "        6920.27132517,  3879.38549816,  1448.91928088, 14390.17797974,\n",
       "        9022.95151353,  7458.83371884,  4584.60125463, 10309.9886336 ,\n",
       "        8693.03891958,  4085.25393494, 27551.60737718, 11151.0640722 ,\n",
       "       11243.0536825 ,  5962.9521121 ,  8181.9015666 , 26750.7993431 ,\n",
       "       33448.59842228, 14350.03320383, 11672.89478465, 32235.7832204 ,\n",
       "        4326.07702625,  9096.53607025,  1045.25196369, 10177.76672094,\n",
       "        4042.60346751, 10384.28681219,  9035.98983755, 40123.71002379,\n",
       "       15507.20819083, 13678.264976  , 24481.97362849,  5059.21988589,\n",
       "       12889.80609711, 30333.92625689, 33301.25091403,  3431.35787088,\n",
       "        3941.81614597,  4203.90901434, 30219.19050725, 39245.56885373,\n",
       "       27762.83744249,  4994.74188765, 11042.48621304,  7760.15047885,\n",
       "        3569.09734756, 10613.61535955,  5544.95921408,  3397.80923785,\n",
       "       32701.67144343, 38285.57836702, 16290.50463759,  6965.99677468,\n",
       "        5895.27536963,  9364.94083823,  9395.1780384 , 11722.13868077,\n",
       "        1611.87873326, 38750.4981005 , 15296.11225478, 11708.42958487,\n",
       "       14076.39653066, 13904.28564489, 25798.46519738, 31953.12169371,\n",
       "        1168.25915489, 10184.5995492 , 12273.00414884, 11867.15734569,\n",
       "       24808.10644113, 15908.53043993, 11198.67421883, 12631.50869281,\n",
       "        6433.71238434,  9915.55343233, 29953.19794316, 38768.07351788,\n",
       "       12011.54405755, 37253.64166612,  4056.21325429,  9255.50826428,\n",
       "       34537.73817683, 28976.62623495,  8444.02316285,  4738.69241453,\n",
       "       11959.22562859, 30006.0695852 , 10041.58386562, 11243.48874027,\n",
       "        8183.6075869 ,  9280.51490529,  8255.40224617,  7239.23538241,\n",
       "       35731.00350944, 32878.29978853,  7591.7717691 , 14921.91368481,\n",
       "        4184.53547122,  8690.01064385,  6619.75457992, 31535.59819898,\n",
       "       32775.00677547,  1887.67848916,  8933.68024017,  6520.27249906,\n",
       "       14475.77105663, 36880.82790297, 10252.51955517, 10775.16399139,\n",
       "       10192.95246113, 26581.47470665, 39936.28907748,  8453.03671416,\n",
       "         143.08142864,  8874.82383918, 15117.85425873,  9557.08594807,\n",
       "       35275.59070316,  7270.62037452, 16826.50981439,  9572.8088055 ,\n",
       "        8159.95902395,  2952.65859719, 32706.51413703, 31283.9896012 ,\n",
       "       39216.89699401,  5362.49911669,  9675.40479836,  3778.85297694,\n",
       "        7946.39718647,  8585.02883773, 31341.17050506, 29551.7714624 ,\n",
       "       29853.91861524,  9151.88904567, 32625.66390263,  3229.01239018,\n",
       "        3529.93652932, 11054.17156002, 13442.38216447, 12761.80223436,\n",
       "        5363.70249634, 15875.56674406, 15252.72853146,  2382.17016287,\n",
       "        -120.56014234, 10834.07802124,  7372.12214193, 31759.88622234,\n",
       "       12314.86913452,  2548.30390645,  6284.28252705,  8170.0107525 ,\n",
       "        4285.24015268,  2331.14818812, 11414.21888159, 12551.18010753,\n",
       "        7208.95663304, 16615.95420641, 11792.56220606, 13920.69808423,\n",
       "        3134.30793579,  7262.13973297, 22758.38813544,  7596.99822972,\n",
       "        5401.65993492,  5339.75438707,  6641.09944767,  5142.27041   ,\n",
       "        9983.03913716,  5526.89132472,  5628.18992827,  6975.95618531,\n",
       "        3673.17907317,  5521.32735633, 37913.25218948,  1337.01243212,\n",
       "       12636.06438156,  8935.78276524, 13661.56267036,  5572.770716  ,\n",
       "        5181.38538205, 36214.23931831,  4207.49996636,  1896.75580314,\n",
       "       15163.16594007, 12674.02182014, 34823.20434979,  5093.20670396,\n",
       "        5580.90282376, 31320.99694717,  5982.46375195,  1940.59597738,\n",
       "        8389.18364163, 10016.84576515,  8238.45168712,  5687.97489766,\n",
       "       13133.993244  , 38538.79843345, 13749.62605459, 28607.07797491,\n",
       "        6685.39503417, 35610.2777963 ,  3716.13611211, 12131.97274228,\n",
       "        9356.80352592,  6339.94803517, 11268.82158683, 14519.98276598,\n",
       "        5175.63113265,  4233.99203814,  7768.5658748 ,  1150.93881984,\n",
       "        7861.51707835,  4401.34365822, 13351.6815701 ,  4312.6173173 ,\n",
       "       10007.10646576,  7274.06437597,  9167.81641515,  2307.24223958,\n",
       "       13115.48905979, 16739.15126554, 15287.81532153, 10516.20091624,\n",
       "        5706.41694356,  2453.74757235,  2105.41152789, 13376.27751148,\n",
       "       14339.33209654,  5021.89418573,  4090.605953  ,  9366.33184625,\n",
       "        9969.15202337, 27902.13744062,  7572.78791802, 10543.34735666,\n",
       "        6174.31283586, 29537.11622517, 11027.94086667,  7457.00641596,\n",
       "       10225.18823673, 12176.62074648,  2939.88516441, 10785.5019008 ,\n",
       "        1443.73866643,  6998.45741682, 28534.01786505, 38460.70771961,\n",
       "        6225.11287288,  8374.92523275,  2386.63715545,   305.52277009,\n",
       "       10407.09161902,  4362.55365462,  4960.62107139,  2662.94916464,\n",
       "        7249.10943879, 33132.60876475, 37964.64601751, 14795.4925882 ,\n",
       "        8191.23299164, 16000.85775643, 33002.87197448,  9520.82908522,\n",
       "       33323.6218328 ,  3516.92369698, 30497.30098573,  8044.20793611,\n",
       "       14191.55955407,  4083.10066112, 32268.03153529,  8315.02063095,\n",
       "       11483.73451116,  9510.21374527,  4115.91551624, 12660.02379304,\n",
       "       11717.00935707,  8354.17363399, 13269.77614371,  2699.20978031,\n",
       "       10542.22785417,  5391.53803822, 11313.67089224, 31398.88972707,\n",
       "       10029.81495966,  1118.21159472,   462.52270438, 39674.38015203,\n",
       "        9676.2207617 ,  7081.42950834, 13999.68415448, 13421.82776838,\n",
       "       26976.22819473,  7100.7475948 ,  6788.44279001, 12033.45246932,\n",
       "        2786.36526883,  3902.46962572, 24859.29396183, 26090.84463032,\n",
       "       13371.81813565,  3164.31052787,  5117.58945791,  9325.3139586 ,\n",
       "       12404.934023  , 23317.59720695, 30625.80462982, 10046.65063794,\n",
       "       23804.49406862,  2804.50033014, 11550.33636023,  7549.77464787,\n",
       "        8233.25736365,   312.94242569,  7720.18671702, 35401.11202663,\n",
       "        6152.78016128,  6237.66443531,   178.89028134, 10901.70768044,\n",
       "        6750.59209883,  9992.98880624, 38764.63808826, 27466.58793525,\n",
       "       11489.14198588, 35484.16547957, 15039.21254017,  6810.42408411,\n",
       "       11015.353549  ,  6839.24282704, 36512.17018034,  6045.00741789,\n",
       "       11075.16473053,   741.96608741, 24186.22593789,  1881.15932715,\n",
       "       34245.135946  , 11379.34404185,  1787.47141685, 32018.68078654,\n",
       "        6644.72832713,  5200.52497017, 37952.77965645,  2171.21921984,\n",
       "        9595.04338665,  2650.53107838, 12806.89011534,  1008.0849294 ,\n",
       "       11113.81326429,  7092.09772183, 36343.11043514,  7160.77113975,\n",
       "       30438.75625726, 29472.1875026 ,  7100.76722883, 10790.23315907,\n",
       "        1879.90465675,  2200.37960027,  3793.92758918, 12706.65566117,\n",
       "       37039.77367021,  9716.69560709,   345.17579449, 11387.82123255,\n",
       "        5036.80429065,  9779.98465515,  5576.16518582,  7260.90814745,\n",
       "        4311.38104385, 28280.88564325,  4363.51594298,  -921.56882455,\n",
       "       33139.88333244, 12910.28546987, 35733.85862246,  9841.66334273,\n",
       "        7663.70159627,   -94.4834943 ,  2560.96139226, 11527.50523772,\n",
       "        5669.76181684,  3293.09776754, 12120.72252044,  7743.17735694,\n",
       "        6920.9128887 ,  5459.93977214,  3049.37781558, 31786.79912085,\n",
       "        3518.32063003,  8595.19234733,  4796.86509127, 13024.5060374 ,\n",
       "       14691.59701387,  7163.95913996, 26454.5855911 , 14277.02407734,\n",
       "       17354.84539043, 11476.70520069])"
      ]
     },
     "execution_count": 30,
     "metadata": {},
     "output_type": "execute_result"
    }
   ],
   "source": [
    "y_"
   ]
  },
  {
   "cell_type": "code",
   "execution_count": 31,
   "metadata": {},
   "outputs": [
    {
     "data": {
      "text/plain": [
       "<matplotlib.collections.PathCollection at 0x28352c1a148>"
      ]
     },
     "execution_count": 31,
     "metadata": {},
     "output_type": "execute_result"
    },
    {
     "data": {
      "image/png": "[encoded data removed]",
      "text/plain": [
       "<Figure size 432x288 with 1 Axes>"
      ]
     },
     "metadata": {
      "needs_background": "light"
     },
     "output_type": "display_data"
    }
   ],
   "source": [
    "#vizualizing the predictions\n",
    "plt.scatter(y_test, y_)"
   ]
  },
  {
   "cell_type": "code",
   "execution_count": 32,
   "metadata": {},
   "outputs": [
    {
     "name": "stdout",
     "output_type": "stream",
     "text": [
      "Slope: [3593.38566973  -24.68933925 2050.56050207  576.6032906  9412.20743162\n",
      " -304.60076953]\n",
      "Intercept: 13232.916467179462\n",
      "\n",
      "\n",
      "The model performance\n",
      "--------------------------------------\n",
      "RMSE is 5771.599022962351\n",
      "R2 score is 0.7911113876316933\n",
      "\n",
      "\n"
     ]
    }
   ],
   "source": [
    "#Evaluating the model \n",
    "from sklearn.metrics import mean_squared_error, r2_score\n",
    "\n",
    "# printing values\n",
    "print('Slope:' ,model.coef_)\n",
    "print('Intercept:', model.intercept_)\n",
    "print(\"\\n\")\n",
    "\n",
    "\n",
    "import numpy as np\n",
    "rmse = (np.sqrt(mean_squared_error(y_test,y_)))\n",
    "r2 = r2_score(y_test,y_)\n",
    "\n",
    "print(\"The model performance\")\n",
    "print(\"--------------------------------------\")\n",
    "print('RMSE is {}'.format(rmse))\n",
    "print('R2 score is {}'.format(r2))\n",
    "print(\"\\n\")"
   ]
  },
  {
   "cell_type": "raw",
   "metadata": {},
   "source": [
    "observation\n",
    "1.RMSE value is more.\n",
    "2.This model is not fit for this data."
   ]
  },
  {
   "cell_type": "markdown",
   "metadata": {},
   "source": [
    "# Random Forest Regression"
   ]
  },
  {
   "cell_type": "code",
   "execution_count": 33,
   "metadata": {},
   "outputs": [
    {
     "data": {
      "text/plain": [
       "RandomForestRegressor(bootstrap=True, ccp_alpha=0.0, criterion='mse',\n",
       "                      max_depth=None, max_features='auto', max_leaf_nodes=None,\n",
       "                      max_samples=None, min_impurity_decrease=0.0,\n",
       "                      min_impurity_split=None, min_samples_leaf=1,\n",
       "                      min_samples_split=2, min_weight_fraction_leaf=0.0,\n",
       "                      n_estimators=100, n_jobs=None, oob_score=False,\n",
       "                      random_state=0, verbose=0, warm_start=False)"
      ]
     },
     "execution_count": 33,
     "metadata": {},
     "output_type": "execute_result"
    }
   ],
   "source": [
    "#Fit Random forest regressor to the dataset\n",
    "# import the regressor \n",
    "from sklearn.ensemble import RandomForestRegressor \n",
    "# create regressor object \n",
    "regressor = RandomForestRegressor(n_estimators = 100, random_state = 0)\n",
    "# fit the regressor with x and y data \n",
    "regressor.fit(X_train, y_train)   "
   ]
  },
  {
   "cell_type": "code",
   "execution_count": 34,
   "metadata": {},
   "outputs": [],
   "source": [
    "y_pred = regressor.predict(X_test)"
   ]
  },
  {
   "cell_type": "code",
   "execution_count": 35,
   "metadata": {},
   "outputs": [
    {
     "data": {
      "text/plain": [
       "array([11662.3949487 ,  9084.6446949 , 45031.5408842 , 13150.401467  ,\n",
       "       10292.3003908 , 11083.4477309 ,  2140.9227975 , 12173.5165461 ,\n",
       "        7251.4122345 ,  7105.1382071 ,  7808.889202  , 19602.3818693 ,\n",
       "        8801.2437347 ,  5595.8608928 , 22973.1408321 , 14110.1146221 ,\n",
       "       13890.7643688 ,  6634.324271  ,  6424.62407   , 34102.7337017 ,\n",
       "       23916.00949   , 17129.0820272 , 12088.7786203 , 26002.3761768 ,\n",
       "        2980.4946772 , 11390.626599  ,  8303.1124424 ,  7671.2480493 ,\n",
       "        3774.194558  ,  9576.7141071 ,  7796.9791116 , 48339.1873856 ,\n",
       "       14023.323054  , 11883.9530275 , 16658.7667333 ,  4244.3957475 ,\n",
       "        8696.2754352 , 37868.2241373 , 39644.8929325 ,  5032.5510339 ,\n",
       "        9135.487691  ,  3991.9414964 , 20813.3147006 , 47999.0457975 ,\n",
       "       36840.5002814 ,  3813.312694  , 14087.7231061 ,  6798.285116  ,\n",
       "        7052.9697051 , 12400.4418667 ,  3821.7507018 ,  3884.3468495 ,\n",
       "       27642.526836  , 49540.6448895 , 11715.5938115 , 12344.1681607 ,\n",
       "        2848.481563  , 12207.2387564 , 10998.619176  , 17167.5329337 ,\n",
       "        2132.6748794 , 47269.1504905 , 15677.1359459 , 12490.2394457 ,\n",
       "       13582.6676251 ,  9831.052167  , 34048.3234564 , 39983.6917937 ,\n",
       "        2940.353533  , 11531.4150987 , 16644.4524057 , 12189.4057372 ,\n",
       "       16850.3683321 , 13876.8180125 , 13621.7067765 , 16887.6646958 ,\n",
       "       10318.9032331 , 10883.7056068 , 19994.6794415 , 46541.478117  ,\n",
       "       11767.1387431 , 49706.2401158 ,  4217.8390854 ,  8937.6121531 ,\n",
       "       40758.5770159 , 19404.1481912 ,  3846.8161045 ,  4224.665962  ,\n",
       "       16115.225199  , 39853.5959766 , 12717.1642535 , 12919.8735491 ,\n",
       "        3449.0681741 ,  9742.8056632 ,  9449.902226  ,  7491.4114537 ,\n",
       "       43062.3130324 , 53239.4866719 ,  5535.1009519 , 10973.4144395 ,\n",
       "        2664.4787436 ,  8429.1497993 ,  8032.4818549 , 40103.6118574 ,\n",
       "       26728.8020156 ,  5202.0851145 , 11632.1022423 ,  9543.2982851 ,\n",
       "       11745.38741   , 45380.2778025 , 12431.8107621 ,  6063.3348157 ,\n",
       "        9862.6258112 , 34520.0061873 , 47705.4069087 ,  7608.3942391 ,\n",
       "        1989.208249  , 12526.15635   , 22550.048955  ,  9965.3723272 ,\n",
       "       42523.5254135 , 13507.5427092 , 14008.2599485 , 12999.1997339 ,\n",
       "       10269.026665  ,  5700.6236262 , 26469.5726635 , 26129.5668535 ,\n",
       "       48324.7422852 ,  1822.0866605 , 10530.2444922 ,  4035.097746  ,\n",
       "        5945.826323  , 10568.0251635 , 44322.8946396 , 38257.5106895 ,\n",
       "       24458.0054303 , 14740.6660204 , 24145.1318771 ,  6138.1720431 ,\n",
       "        2127.8758725 , 12995.6835103 , 10442.0881805 , 11382.878742  ,\n",
       "        6163.6812334 , 13970.5459245 , 21137.7766044 ,  9905.2335019 ,\n",
       "        1618.924365  , 12617.5109837 ,  6653.006252  , 39345.2025619 ,\n",
       "       11407.4419078 ,  6496.5976115 ,  4254.335853  ,  8114.4183945 ,\n",
       "        4324.5187773 ,  3831.6847132 , 13403.6956635 ,  9735.9814851 ,\n",
       "       10366.0469643 , 13225.431598  , 13370.9910439 ,  9244.1439925 ,\n",
       "        5502.2378201 , 12838.3950385 , 17811.694532  ,  9305.3465196 ,\n",
       "        4758.0154841 ,  1917.49412667, 10166.8956276 ,  6242.7192403 ,\n",
       "       12162.7126171 ,  2300.0433277 ,  7226.2926654 ,  7545.6125402 ,\n",
       "        7544.235872  ,  6506.1113241 , 26915.3355495 ,  1812.7839795 ,\n",
       "       18888.7720575 ,  6798.6425198 , 11431.335716  ,  4420.063503  ,\n",
       "        8288.0830347 , 28175.292731  ,  4367.6359625 ,  2877.1415628 ,\n",
       "       14177.766373  , 13118.8747063 , 41245.345105  ,  4703.5569731 ,\n",
       "        5418.0328937 , 23923.2986732 ,  3115.53755   ,  5585.3649959 ,\n",
       "        9850.4829961 , 13407.8236807 ,  7380.7910429 ,  4334.929996  ,\n",
       "       13102.4085671 , 46731.6086791 , 18211.8923449 , 18843.8867565 ,\n",
       "       12033.3501976 , 43704.5832005 ,  6760.8097214 , 11864.6598107 ,\n",
       "        6116.7571419 ,  1349.253884  ,  9584.0409932 , 13733.9521615 ,\n",
       "        8285.6607778 ,  5217.7297559 ,  6579.4691907 ,  9928.7182273 ,\n",
       "        6691.9804513 ,  8577.0321761 , 14370.535977  ,  7432.0359257 ,\n",
       "        7260.1100419 ,  7867.644718  , 14140.1500692 ,  5291.1240626 ,\n",
       "       13085.6400028 , 14325.7522425 , 18777.1997273 , 11899.0989656 ,\n",
       "        7145.0756913 ,  2875.5327621 ,  8665.9631058 ,  8543.4439328 ,\n",
       "       14593.691355  ,  7999.6342018 ,  5322.0022826 ,  6951.142372  ,\n",
       "       13970.1414281 , 34596.9716598 ,  6469.288073  , 13836.5581967 ,\n",
       "        6956.985324  , 37359.1591297 ,  7286.7816022 , 10011.0608417 ,\n",
       "       12237.3874086 , 11191.7105976 ,  5435.2004418 ,  9940.0390341 ,\n",
       "        3065.4951517 ,  7969.9079014 , 19416.224794  , 46446.84329   ,\n",
       "        4450.5836138 ,  3950.3116499 ,  4919.320202  ,  1952.5089769 ,\n",
       "        8544.1581302 ,  4132.24547646, 10032.7271055 ,  6761.6656898 ,\n",
       "        8885.4336021 , 26690.8730636 , 45946.13667   , 16167.3305347 ,\n",
       "        6630.170742  , 11393.2302855 , 43736.9927228 ,  9360.1606849 ,\n",
       "       39752.1205637 ,  1279.9000905 , 38481.5224203 ,  5267.3255943 ,\n",
       "       12990.7817878 ,  5486.8669016 , 40275.4938038 ,  8809.3376848 ,\n",
       "       10133.3236954 , 10772.6939523 ,  4074.8785184 , 19017.3054166 ,\n",
       "       12280.9325483 ,  9037.1684519 , 18430.7344663 , 15646.2582235 ,\n",
       "        9483.1421111 ,  4793.4820461 , 10307.1585952 , 22190.3960018 ,\n",
       "        4650.9926793 ,  1807.373054  ,  2609.2486095 , 47131.1780439 ,\n",
       "        9805.726834  ,  5213.9048255 , 17736.6241269 , 12656.9020173 ,\n",
       "       34658.695369  ,  6636.0720475 ,  5781.2888795 ,  9212.900238  ,\n",
       "        2998.188441  ,  4301.1728396 , 20750.0066235 , 17073.712082  ,\n",
       "       13800.0265657 ,  3004.7927954 ,  3329.5192844 , 13033.1322729 ,\n",
       "       10865.9540364 , 14529.5218036 , 20206.621984  ,  7863.8873576 ,\n",
       "       16556.0408111 ,  2388.3000491 , 10597.1310837 ,  7601.7994908 ,\n",
       "       12830.1806323 ,  2279.6753565 , 11793.6019981 , 47166.5119972 ,\n",
       "        5960.6226128 , 10344.850543  ,  2012.503308  , 10016.6609266 ,\n",
       "        4257.8626193 , 12523.4998612 , 46728.0495876 , 18088.0087025 ,\n",
       "        9495.5546751 , 45385.1165514 , 17404.0390216 , 12052.5709836 ,\n",
       "       10088.855842  ,  5391.6501898 , 28397.9350985 ,  4257.538458  ,\n",
       "       13854.5083414 ,  2170.8215275 , 16863.4243542 ,  3306.3609234 ,\n",
       "       24436.949475  , 11048.9828531 ,  6589.0829849 , 41641.1792121 ,\n",
       "        5467.2055723 ,  5474.2748338 , 29363.435442  ,  5253.7942512 ,\n",
       "       14214.1435392 ,  2701.5599937 , 11637.6648086 ,  3235.1771255 ,\n",
       "        6893.4870494 ,  5629.0442856 , 45513.2377972 , 12247.5098817 ,\n",
       "       46357.4173322 , 38693.6190605 ,  6096.173365  , 11452.9244277 ,\n",
       "        1810.4857885 ,  4498.710421  ,  3258.6146906 ,  9545.2514901 ,\n",
       "       45809.6070344 , 11746.3228854 ,  1951.8678145 , 15240.3907603 ,\n",
       "        2271.4419495 , 10899.9025317 ,  8514.7132127 ,  2251.9819252 ,\n",
       "        3589.2371591 , 37753.2622459 ,  7349.5101457 ,  1682.764399  ,\n",
       "       41191.2672026 , 13914.2087104 , 43167.2115834 , 11939.5942564 ,\n",
       "        8755.126575  ,  3305.3728596 ,  2119.727876  , 12153.7452604 ,\n",
       "        6227.5739974 ,  2566.5605515 , 13234.6418356 ,  7162.116807  ,\n",
       "        7076.3302531 ,  8927.4836279 ,  6257.5030933 , 43752.7659763 ,\n",
       "        4914.7743758 , 13078.105807  ,  8030.59185958, 12266.7260283 ,\n",
       "       10975.7029395 ,  5401.7014409 , 17507.9533355 , 13387.1106538 ,\n",
       "       19703.7256172 , 19116.2735717 ])"
      ]
     },
     "execution_count": 35,
     "metadata": {},
     "output_type": "execute_result"
    }
   ],
   "source": [
    "y_pred"
   ]
  },
  {
   "cell_type": "code",
   "execution_count": 36,
   "metadata": {},
   "outputs": [
    {
     "data": {
      "text/plain": [
       "<matplotlib.collections.PathCollection at 0x28353ea6808>"
      ]
     },
     "execution_count": 36,
     "metadata": {},
     "output_type": "execute_result"
    },
    {
     "data": {
      "image/png": "[encoded data removed]",
      "text/plain": [
       "<Figure size 432x288 with 1 Axes>"
      ]
     },
     "metadata": {
      "needs_background": "light"
     },
     "output_type": "display_data"
    }
   ],
   "source": [
    "#vizualizing the predictions\n",
    "plt.scatter(y_test, y_pred)"
   ]
  },
  {
   "cell_type": "code",
   "execution_count": 37,
   "metadata": {},
   "outputs": [
    {
     "name": "stdout",
     "output_type": "stream",
     "text": [
      "Accuracy of the model: 0.9747658326850935\n"
     ]
    }
   ],
   "source": [
    "accuracy=regressor.score(X_train,y_train)\n",
    "print('Accuracy of the model:', accuracy)"
   ]
  },
  {
   "cell_type": "markdown",
   "metadata": {},
   "source": [
    "# Regression with Decision Trees"
   ]
  },
  {
   "cell_type": "code",
   "execution_count": 38,
   "metadata": {},
   "outputs": [
    {
     "data": {
      "text/plain": [
       "DecisionTreeRegressor(ccp_alpha=0.0, criterion='mse', max_depth=None,\n",
       "                      max_features=None, max_leaf_nodes=None,\n",
       "                      min_impurity_decrease=0.0, min_impurity_split=None,\n",
       "                      min_samples_leaf=1, min_samples_split=2,\n",
       "                      min_weight_fraction_leaf=0.0, presort='deprecated',\n",
       "                      random_state=0, splitter='best')"
      ]
     },
     "execution_count": 38,
     "metadata": {},
     "output_type": "execute_result"
    }
   ],
   "source": [
    "#Fit Decision Tree Rgerssion Model to the dataset\n",
    "from sklearn.tree import DecisionTreeRegressor\n",
    "#Create the Decision Tree regressor object \n",
    "regressor = DecisionTreeRegressor(random_state=0)\n",
    "#Fit the regressor object to the dataset.\n",
    "regressor.fit(X_train,y_train)"
   ]
  },
  {
   "cell_type": "code",
   "execution_count": 39,
   "metadata": {},
   "outputs": [],
   "source": [
    "y_pred = regressor.predict(X_test)"
   ]
  },
  {
   "cell_type": "code",
   "execution_count": 40,
   "metadata": {},
   "outputs": [
    {
     "data": {
      "text/plain": [
       "array([ 9748.9106  ,  8930.93455 , 44202.6536  , 12741.16745 ,\n",
       "        9264.797   , 21984.47061 ,  2196.4732  , 10600.5483  ,\n",
       "        8965.79575 ,  5693.4305  , 21984.47061 , 30284.64294 ,\n",
       "        7633.7206  ,  3704.3545  , 18033.9679  , 10264.4421  ,\n",
       "       12629.8967  ,  3292.52985 ,  6455.86265 , 33907.548   ,\n",
       "       24667.419   , 13430.265   , 10072.05505 , 24915.22085 ,\n",
       "        1391.5287  ,  4454.40265 ,  4719.73655 ,  7640.3092  ,\n",
       "        3757.8448  ,  8027.968   ,  8252.2843  , 48673.5588  ,\n",
       "       13462.52    , 10713.644   , 15817.9857  ,  4719.52405 ,\n",
       "        8733.22925 , 44585.45587 , 39125.33225 ,  2020.177   ,\n",
       "        5855.9025  ,  2866.091   , 35147.52848 , 47896.79135 ,\n",
       "       36307.7983  ,  3579.8287  , 10264.4421  ,  6389.37785 ,\n",
       "        4719.52405 , 11830.6072  ,  2473.3341  ,  4296.2712  ,\n",
       "       24915.22085 , 60021.39897 , 11856.4115  , 19673.33573 ,\n",
       "        2897.3235  ,  8442.667   ,  8211.1002  , 12913.9924  ,\n",
       "        1252.407   , 46130.5265  , 14001.1338  ,  8968.33    ,\n",
       "       26392.26029 ,  9877.6077  , 33907.548   , 39983.42595 ,\n",
       "        2585.269   ,  8252.2843  , 24513.09126 , 12224.35085 ,\n",
       "       16297.846   , 13887.204   , 12629.8967  , 13204.28565 ,\n",
       "        7623.518   ,  8116.26885 , 20773.62775 , 46599.1084  ,\n",
       "       11658.11505 , 46200.9851  ,  1639.5631  ,  8062.764   ,\n",
       "       39125.33225 , 19719.6947  ,  2632.992   ,  2897.3235  ,\n",
       "       27000.98473 , 36950.2567  ,  6799.458   , 10704.47    ,\n",
       "        3201.24515 ,  8232.6388  ,  6112.35295 ,  4347.02335 ,\n",
       "       41999.52    , 62592.87309 ,  5031.26955 , 11576.13    ,\n",
       "        1826.843   ,  6112.35295 ,  3577.999   , 39047.285   ,\n",
       "       37829.7242  ,  4719.73655 , 11070.535   , 19673.33573 ,\n",
       "       11938.25595 , 45008.9555  , 12479.70895 ,  4753.6368  ,\n",
       "       10264.4421  , 34617.84065 , 47269.854   ,  7256.7231  ,\n",
       "        1832.094   ,  8442.667   , 27941.28758 ,  9101.798   ,\n",
       "       42211.1382  , 10197.7722  , 13822.803   ,  6799.458   ,\n",
       "        7624.63    ,  5209.57885 , 38245.59327 , 35069.37452 ,\n",
       "       48673.5588  ,  1646.4297  ,  8522.003   ,  1727.54    ,\n",
       "        5974.3847  ,  8688.85885 , 62592.87309 , 37079.372   ,\n",
       "       21259.37795 , 10156.7832  , 22218.1149  , 12609.88702 ,\n",
       "        2459.7201  , 10796.35025 ,  8978.1851  , 10923.9332  ,\n",
       "        5266.3656  , 13831.1152  , 27941.28758 , 22395.74424 ,\n",
       "        1628.4709  , 10942.13205 ,  7144.86265 , 38126.2465  ,\n",
       "       25333.33284 , 21344.8467  ,  2217.46915 ,  5974.3847  ,\n",
       "        1639.5631  ,  1711.0268  , 10264.4421  ,  9620.3307  ,\n",
       "        4922.9159  , 13405.3903  , 12124.9924  ,  9386.1613  ,\n",
       "        4134.08245 ,  5080.096   , 20167.33603 ,  6799.458   ,\n",
       "        4239.89265 ,  1634.5734  , 19442.3535  ,  4133.64165 ,\n",
       "        8522.003   ,  2438.0552  ,  4449.462   ,  5080.096   ,\n",
       "        4719.73655 ,  5855.9025  , 27218.43725 ,  1705.6245  ,\n",
       "       29186.48236 ,  7281.5056  , 11353.2276  ,  2497.0383  ,\n",
       "       21984.47061 , 26109.32905 ,  1639.5631  ,  2331.519   ,\n",
       "       14901.5167  , 10043.249   , 40974.1649  ,  3877.30425 ,\n",
       "        5002.7827  , 21978.6769  ,  2727.3951  ,  1815.8759  ,\n",
       "        6402.29135 , 12404.8791  ,  3471.4096  ,  4454.40265 ,\n",
       "       10923.9332  , 47055.5321  , 11987.1682  , 19040.876   ,\n",
       "        4922.9159  , 41676.0811  ,  3309.7926  ,  9487.6442  ,\n",
       "        4889.9995  ,  1146.7966  ,  9048.0273  , 13555.0049  ,\n",
       "        4133.64165 ,  2855.43755 ,  6289.7549  ,  1815.8759  ,\n",
       "        6748.5912  , 21984.47061 , 14001.1338  ,  6933.24225 ,\n",
       "        5934.3798  ,  8965.79575 ,  8703.456   ,  3176.8159  ,\n",
       "       11842.442   , 14410.9321  , 33471.97189 , 11931.12525 ,\n",
       "        6338.0756  ,  2523.1695  , 21344.8467  ,  8334.5896  ,\n",
       "       12622.1795  ,  4687.797   ,  5002.7827  ,  6600.361   ,\n",
       "       25656.57526 , 34617.84065 ,  6123.5688  , 29186.48236 ,\n",
       "        5649.715   , 37484.4493  ,  7196.867   ,  9095.06825 ,\n",
       "        7441.501   , 10072.05505 , 11272.33139 ,  7633.7206  ,\n",
       "        1515.3449  ,  6389.37785 , 19719.6947  , 47291.055   ,\n",
       "        3877.30425 ,  3227.1211  ,  2200.83085 ,  1704.70015 ,\n",
       "        8062.764   ,  7882.429475,  5080.096   ,  4340.4409  ,\n",
       "        9193.8385  , 24535.69855 , 46599.1084  , 15612.19335 ,\n",
       "        6393.60345 , 10982.5013  , 44585.45587 ,  8891.1395  ,\n",
       "       39836.519   ,  1137.011   , 37484.4493  ,  4949.7587  ,\n",
       "       12430.95335 ,  3309.7926  , 39047.285   ,  6112.35295 ,\n",
       "        9487.6442  , 10096.97    ,  1639.5631  , 27000.98473 ,\n",
       "       12224.35085 ,  5630.45785 , 13143.33665 , 21344.8467  ,\n",
       "        6123.5688  ,  4466.6214  , 23563.01618 , 21880.82    ,\n",
       "        3292.52985 ,  1705.6245  ,  3077.0955  , 47896.79135 ,\n",
       "        9225.2564  ,  4357.04365 , 11987.1682  , 11394.06555 ,\n",
       "       34439.8559  ,  6238.298   ,  5240.765   ,  8798.593   ,\n",
       "        1639.5631  ,  3056.3881  , 32734.1863  , 17663.1442  ,\n",
       "       13352.0998  ,  2523.1695  ,  3227.1211  ,  9101.798   ,\n",
       "       10564.8845  , 13747.87235 , 20745.9891  , 18963.17192 ,\n",
       "       15359.1045  ,  2719.27975 ,  5400.9805  ,  4402.233   ,\n",
       "        9095.06825 ,  2304.0022  ,  9715.841   , 44202.6536  ,\n",
       "        3579.8287  ,  4922.9159  ,  2196.4732  ,  8280.6227  ,\n",
       "        3353.284   , 11931.12525 , 47291.055   , 18259.216   ,\n",
       "        8964.06055 , 48885.13561 , 13430.265   ,  4922.9159  ,\n",
       "        9386.1613  ,  4466.6214  , 27218.43725 ,  4350.5144  ,\n",
       "       13415.0381  ,  1832.094   , 15359.1045  ,  3176.8159  ,\n",
       "       24873.3849  ,  5400.9805  ,  2842.76075 , 44501.3982  ,\n",
       "        5253.524   ,  4889.0368  , 27533.9129  , 16586.49771 ,\n",
       "       32108.66282 ,  2639.0429  , 11299.343   ,  3208.787   ,\n",
       "        5846.9176  ,  5253.524   , 43921.1837  ,  8539.671   ,\n",
       "       62592.87309 , 37484.4493  ,  5488.262   ,  8538.28845 ,\n",
       "        1632.56445 ,  3161.454   ,  3393.35635 ,  9048.0273  ,\n",
       "       43813.8661  , 11830.6072  ,  1731.677   , 12815.44495 ,\n",
       "        2134.9015  ,  7348.142   ,  4337.7352  ,  2438.0552  ,\n",
       "        3292.52985 , 36307.7983  ,  6933.24225 ,  1615.7667  ,\n",
       "       40273.6455  , 20781.48892 , 41661.602   , 11931.12525 ,\n",
       "        4454.40265 ,  2775.19215 ,  1906.35825 , 10848.1343  ,\n",
       "        5003.853   ,  2203.73595 , 10072.05505 ,  7954.517   ,\n",
       "        5966.8874  ,  3877.30425 , 12609.88702 , 44585.45587 ,\n",
       "        1639.5631  ,  8442.667   ,  7882.429475,  6610.1097  ,\n",
       "       11576.13    ,  3766.8838  , 18223.4512  , 20781.48892 ,\n",
       "       16085.1275  , 12957.118   ])"
      ]
     },
     "execution_count": 40,
     "metadata": {},
     "output_type": "execute_result"
    }
   ],
   "source": [
    "y_pred"
   ]
  },
  {
   "cell_type": "code",
   "execution_count": 41,
   "metadata": {},
   "outputs": [
    {
     "name": "stdout",
     "output_type": "stream",
     "text": [
      "Accuracy of the model: 0.9994078632651511\n"
     ]
    }
   ],
   "source": [
    "accuracy=regressor.score(X_train,y_train)\n",
    "print('Accuracy of the model:', accuracy)"
   ]
  },
  {
   "cell_type": "code",
   "execution_count": 42,
   "metadata": {},
   "outputs": [
    {
     "data": {
      "text/plain": [
       "<matplotlib.collections.PathCollection at 0x28353f14e48>"
      ]
     },
     "execution_count": 42,
     "metadata": {},
     "output_type": "execute_result"
    },
    {
     "data": {
      "image/png": "[encoded data removed]",
      "text/plain": [
       "<Figure size 432x288 with 1 Axes>"
      ]
     },
     "metadata": {
      "needs_background": "light"
     },
     "output_type": "display_data"
    }
   ],
   "source": [
    "#vizualizing the predictions\n",
    "plt.scatter(y_test, y_pred)"
   ]
  },
  {
   "cell_type": "markdown",
   "metadata": {},
   "source": [
    "This graph is more linear when compared to random forest regression and multiple linear regression,most of the data points are lying on the same line."
   ]
  },
  {
   "cell_type": "markdown",
   "metadata": {},
   "source": [
    "# Observatins\n",
    "1.The accuracy of Decission Tree Regression is 0.9994078632651511.\n",
    "\n",
    "2.The accuracy of Random Forest Regression is 0.9749233237455655. \n",
    "\n",
    "3.The accuracy of multiple linear regression is  0.730648384726772.\n",
    "\n",
    "4.Threfore Decission Tree Regression model predictions are more accurate and this is the finest model for insurance data. "
   ]
  },
  {
   "cell_type": "code",
   "execution_count": null,
   "metadata": {},
   "outputs": [],
   "source": []
  }
 ],
 "metadata": {
  "kernelspec": {
   "display_name": "Python 3",
   "language": "python",
   "name": "python3"
  },
  "language_info": {
   "codemirror_mode": {
    "name": "ipython",
    "version": 3
   },
   "file_extension": ".py",
   "mimetype": "text/x-python",
   "name": "python",
   "nbconvert_exporter": "python",
   "pygments_lexer": "ipython3",
   "version": "3.7.6"
  }
 },
 "nbformat": 4,
 "nbformat_minor": 4
}
