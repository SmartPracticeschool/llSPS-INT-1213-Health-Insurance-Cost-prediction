{
 "cells": [
  {
   "cell_type": "code",
   "execution_count": 1,
   "metadata": {},
   "outputs": [
    {
     "data": {
      "text/plain": [
       "'C:\\\\Users\\\\KrishBolla\\\\Desktop'"
      ]
     },
     "execution_count": 1,
     "metadata": {},
     "output_type": "execute_result"
    }
   ],
   "source": [
    "import os\n",
    "os.getcwd()"
   ]
  },
  {
   "cell_type": "code",
   "execution_count": 2,
   "metadata": {},
   "outputs": [
    {
     "data": {
      "text/plain": [
       "'C:\\\\Users\\\\KrishBolla\\\\Desktop\\\\Remote Internship 2020\\\\DataSets'"
      ]
     },
     "execution_count": 2,
     "metadata": {},
     "output_type": "execute_result"
    }
   ],
   "source": [
    "os.chdir(\"C:/Users/KrishBolla/Desktop/Remote Internship 2020/DataSets\")\n",
    "os.getcwd()"
   ]
  },
  {
   "cell_type": "code",
   "execution_count": 3,
   "metadata": {},
   "outputs": [],
   "source": [
    "import numpy as np\n",
    "import pandas as pd\n",
    "import matplotlib.pyplot as plt"
   ]
  },
  {
   "cell_type": "code",
   "execution_count": 4,
   "metadata": {},
   "outputs": [],
   "source": [
    "data1 = pd.read_csv('insurance.csv')"
   ]
  },
  {
   "cell_type": "code",
   "execution_count": 5,
   "metadata": {},
   "outputs": [
    {
     "data": {
      "text/html": [
       "<div>\n",
       "<style scoped>\n",
       "    .dataframe tbody tr th:only-of-type {\n",
       "        vertical-align: middle;\n",
       "    }\n",
       "\n",
       "    .dataframe tbody tr th {\n",
       "        vertical-align: top;\n",
       "    }\n",
       "\n",
       "    .dataframe thead th {\n",
       "        text-align: right;\n",
       "    }\n",
       "</style>\n",
       "<table border=\"1\" class=\"dataframe\">\n",
       "  <thead>\n",
       "    <tr style=\"text-align: right;\">\n",
       "      <th></th>\n",
       "      <th>age</th>\n",
       "      <th>sex</th>\n",
       "      <th>bmi</th>\n",
       "      <th>children</th>\n",
       "      <th>smoker</th>\n",
       "      <th>region</th>\n",
       "      <th>charges</th>\n",
       "    </tr>\n",
       "  </thead>\n",
       "  <tbody>\n",
       "    <tr>\n",
       "      <th>0</th>\n",
       "      <td>19</td>\n",
       "      <td>female</td>\n",
       "      <td>27.900</td>\n",
       "      <td>0</td>\n",
       "      <td>yes</td>\n",
       "      <td>southwest</td>\n",
       "      <td>16884.92400</td>\n",
       "    </tr>\n",
       "    <tr>\n",
       "      <th>1</th>\n",
       "      <td>18</td>\n",
       "      <td>male</td>\n",
       "      <td>33.770</td>\n",
       "      <td>1</td>\n",
       "      <td>no</td>\n",
       "      <td>southeast</td>\n",
       "      <td>1725.55230</td>\n",
       "    </tr>\n",
       "    <tr>\n",
       "      <th>2</th>\n",
       "      <td>28</td>\n",
       "      <td>male</td>\n",
       "      <td>33.000</td>\n",
       "      <td>3</td>\n",
       "      <td>no</td>\n",
       "      <td>southeast</td>\n",
       "      <td>4449.46200</td>\n",
       "    </tr>\n",
       "    <tr>\n",
       "      <th>3</th>\n",
       "      <td>33</td>\n",
       "      <td>male</td>\n",
       "      <td>22.705</td>\n",
       "      <td>0</td>\n",
       "      <td>no</td>\n",
       "      <td>northwest</td>\n",
       "      <td>21984.47061</td>\n",
       "    </tr>\n",
       "    <tr>\n",
       "      <th>4</th>\n",
       "      <td>32</td>\n",
       "      <td>male</td>\n",
       "      <td>28.880</td>\n",
       "      <td>0</td>\n",
       "      <td>no</td>\n",
       "      <td>northwest</td>\n",
       "      <td>3866.85520</td>\n",
       "    </tr>\n",
       "    <tr>\n",
       "      <th>...</th>\n",
       "      <td>...</td>\n",
       "      <td>...</td>\n",
       "      <td>...</td>\n",
       "      <td>...</td>\n",
       "      <td>...</td>\n",
       "      <td>...</td>\n",
       "      <td>...</td>\n",
       "    </tr>\n",
       "    <tr>\n",
       "      <th>1333</th>\n",
       "      <td>50</td>\n",
       "      <td>male</td>\n",
       "      <td>30.970</td>\n",
       "      <td>3</td>\n",
       "      <td>no</td>\n",
       "      <td>northwest</td>\n",
       "      <td>10600.54830</td>\n",
       "    </tr>\n",
       "    <tr>\n",
       "      <th>1334</th>\n",
       "      <td>18</td>\n",
       "      <td>female</td>\n",
       "      <td>31.920</td>\n",
       "      <td>0</td>\n",
       "      <td>no</td>\n",
       "      <td>northeast</td>\n",
       "      <td>2205.98080</td>\n",
       "    </tr>\n",
       "    <tr>\n",
       "      <th>1335</th>\n",
       "      <td>18</td>\n",
       "      <td>female</td>\n",
       "      <td>36.850</td>\n",
       "      <td>0</td>\n",
       "      <td>no</td>\n",
       "      <td>southeast</td>\n",
       "      <td>1629.83350</td>\n",
       "    </tr>\n",
       "    <tr>\n",
       "      <th>1336</th>\n",
       "      <td>21</td>\n",
       "      <td>female</td>\n",
       "      <td>25.800</td>\n",
       "      <td>0</td>\n",
       "      <td>no</td>\n",
       "      <td>southwest</td>\n",
       "      <td>2007.94500</td>\n",
       "    </tr>\n",
       "    <tr>\n",
       "      <th>1337</th>\n",
       "      <td>61</td>\n",
       "      <td>female</td>\n",
       "      <td>29.070</td>\n",
       "      <td>0</td>\n",
       "      <td>yes</td>\n",
       "      <td>northwest</td>\n",
       "      <td>29141.36030</td>\n",
       "    </tr>\n",
       "  </tbody>\n",
       "</table>\n",
       "<p>1338 rows × 7 columns</p>\n",
       "</div>"
      ],
      "text/plain": [
       "      age     sex     bmi  children smoker     region      charges\n",
       "0      19  female  27.900         0    yes  southwest  16884.92400\n",
       "1      18    male  33.770         1     no  southeast   1725.55230\n",
       "2      28    male  33.000         3     no  southeast   4449.46200\n",
       "3      33    male  22.705         0     no  northwest  21984.47061\n",
       "4      32    male  28.880         0     no  northwest   3866.85520\n",
       "...   ...     ...     ...       ...    ...        ...          ...\n",
       "1333   50    male  30.970         3     no  northwest  10600.54830\n",
       "1334   18  female  31.920         0     no  northeast   2205.98080\n",
       "1335   18  female  36.850         0     no  southeast   1629.83350\n",
       "1336   21  female  25.800         0     no  southwest   2007.94500\n",
       "1337   61  female  29.070         0    yes  northwest  29141.36030\n",
       "\n",
       "[1338 rows x 7 columns]"
      ]
     },
     "execution_count": 5,
     "metadata": {},
     "output_type": "execute_result"
    }
   ],
   "source": [
    "data1"
   ]
  },
  {
   "cell_type": "code",
   "execution_count": 6,
   "metadata": {},
   "outputs": [
    {
     "data": {
      "text/plain": [
       "age         False\n",
       "sex         False\n",
       "bmi         False\n",
       "children    False\n",
       "smoker      False\n",
       "region      False\n",
       "charges     False\n",
       "dtype: bool"
      ]
     },
     "execution_count": 6,
     "metadata": {},
     "output_type": "execute_result"
    }
   ],
   "source": [
    "data1.isnull().any()"
   ]
  },
  {
   "cell_type": "code",
   "execution_count": 7,
   "metadata": {},
   "outputs": [],
   "source": [
    "# Since there is no particular column has missing values \n",
    " # it is showing as false...."
   ]
  },
  {
   "cell_type": "markdown",
   "metadata": {},
   "source": [
    "# Label Encoding"
   ]
  },
  {
   "cell_type": "code",
   "execution_count": 8,
   "metadata": {},
   "outputs": [],
   "source": [
    "from sklearn.preprocessing import LabelEncoder\n",
    "labelencoder_y = LabelEncoder()\n",
    "data1['region'] = labelencoder_y.fit_transform(data1['region'])"
   ]
  },
  {
   "cell_type": "code",
   "execution_count": 9,
   "metadata": {},
   "outputs": [
    {
     "data": {
      "text/html": [
       "<div>\n",
       "<style scoped>\n",
       "    .dataframe tbody tr th:only-of-type {\n",
       "        vertical-align: middle;\n",
       "    }\n",
       "\n",
       "    .dataframe tbody tr th {\n",
       "        vertical-align: top;\n",
       "    }\n",
       "\n",
       "    .dataframe thead th {\n",
       "        text-align: right;\n",
       "    }\n",
       "</style>\n",
       "<table border=\"1\" class=\"dataframe\">\n",
       "  <thead>\n",
       "    <tr style=\"text-align: right;\">\n",
       "      <th></th>\n",
       "      <th>age</th>\n",
       "      <th>sex</th>\n",
       "      <th>bmi</th>\n",
       "      <th>children</th>\n",
       "      <th>smoker</th>\n",
       "      <th>region</th>\n",
       "      <th>charges</th>\n",
       "    </tr>\n",
       "  </thead>\n",
       "  <tbody>\n",
       "    <tr>\n",
       "      <th>0</th>\n",
       "      <td>19</td>\n",
       "      <td>female</td>\n",
       "      <td>27.900</td>\n",
       "      <td>0</td>\n",
       "      <td>yes</td>\n",
       "      <td>3</td>\n",
       "      <td>16884.92400</td>\n",
       "    </tr>\n",
       "    <tr>\n",
       "      <th>1</th>\n",
       "      <td>18</td>\n",
       "      <td>male</td>\n",
       "      <td>33.770</td>\n",
       "      <td>1</td>\n",
       "      <td>no</td>\n",
       "      <td>2</td>\n",
       "      <td>1725.55230</td>\n",
       "    </tr>\n",
       "    <tr>\n",
       "      <th>2</th>\n",
       "      <td>28</td>\n",
       "      <td>male</td>\n",
       "      <td>33.000</td>\n",
       "      <td>3</td>\n",
       "      <td>no</td>\n",
       "      <td>2</td>\n",
       "      <td>4449.46200</td>\n",
       "    </tr>\n",
       "    <tr>\n",
       "      <th>3</th>\n",
       "      <td>33</td>\n",
       "      <td>male</td>\n",
       "      <td>22.705</td>\n",
       "      <td>0</td>\n",
       "      <td>no</td>\n",
       "      <td>1</td>\n",
       "      <td>21984.47061</td>\n",
       "    </tr>\n",
       "    <tr>\n",
       "      <th>4</th>\n",
       "      <td>32</td>\n",
       "      <td>male</td>\n",
       "      <td>28.880</td>\n",
       "      <td>0</td>\n",
       "      <td>no</td>\n",
       "      <td>1</td>\n",
       "      <td>3866.85520</td>\n",
       "    </tr>\n",
       "    <tr>\n",
       "      <th>...</th>\n",
       "      <td>...</td>\n",
       "      <td>...</td>\n",
       "      <td>...</td>\n",
       "      <td>...</td>\n",
       "      <td>...</td>\n",
       "      <td>...</td>\n",
       "      <td>...</td>\n",
       "    </tr>\n",
       "    <tr>\n",
       "      <th>1333</th>\n",
       "      <td>50</td>\n",
       "      <td>male</td>\n",
       "      <td>30.970</td>\n",
       "      <td>3</td>\n",
       "      <td>no</td>\n",
       "      <td>1</td>\n",
       "      <td>10600.54830</td>\n",
       "    </tr>\n",
       "    <tr>\n",
       "      <th>1334</th>\n",
       "      <td>18</td>\n",
       "      <td>female</td>\n",
       "      <td>31.920</td>\n",
       "      <td>0</td>\n",
       "      <td>no</td>\n",
       "      <td>0</td>\n",
       "      <td>2205.98080</td>\n",
       "    </tr>\n",
       "    <tr>\n",
       "      <th>1335</th>\n",
       "      <td>18</td>\n",
       "      <td>female</td>\n",
       "      <td>36.850</td>\n",
       "      <td>0</td>\n",
       "      <td>no</td>\n",
       "      <td>2</td>\n",
       "      <td>1629.83350</td>\n",
       "    </tr>\n",
       "    <tr>\n",
       "      <th>1336</th>\n",
       "      <td>21</td>\n",
       "      <td>female</td>\n",
       "      <td>25.800</td>\n",
       "      <td>0</td>\n",
       "      <td>no</td>\n",
       "      <td>3</td>\n",
       "      <td>2007.94500</td>\n",
       "    </tr>\n",
       "    <tr>\n",
       "      <th>1337</th>\n",
       "      <td>61</td>\n",
       "      <td>female</td>\n",
       "      <td>29.070</td>\n",
       "      <td>0</td>\n",
       "      <td>yes</td>\n",
       "      <td>1</td>\n",
       "      <td>29141.36030</td>\n",
       "    </tr>\n",
       "  </tbody>\n",
       "</table>\n",
       "<p>1338 rows × 7 columns</p>\n",
       "</div>"
      ],
      "text/plain": [
       "      age     sex     bmi  children smoker  region      charges\n",
       "0      19  female  27.900         0    yes       3  16884.92400\n",
       "1      18    male  33.770         1     no       2   1725.55230\n",
       "2      28    male  33.000         3     no       2   4449.46200\n",
       "3      33    male  22.705         0     no       1  21984.47061\n",
       "4      32    male  28.880         0     no       1   3866.85520\n",
       "...   ...     ...     ...       ...    ...     ...          ...\n",
       "1333   50    male  30.970         3     no       1  10600.54830\n",
       "1334   18  female  31.920         0     no       0   2205.98080\n",
       "1335   18  female  36.850         0     no       2   1629.83350\n",
       "1336   21  female  25.800         0     no       3   2007.94500\n",
       "1337   61  female  29.070         0    yes       1  29141.36030\n",
       "\n",
       "[1338 rows x 7 columns]"
      ]
     },
     "execution_count": 9,
     "metadata": {},
     "output_type": "execute_result"
    }
   ],
   "source": [
    "data1"
   ]
  },
  {
   "cell_type": "code",
   "execution_count": 10,
   "metadata": {},
   "outputs": [],
   "source": [
    "from sklearn.preprocessing import LabelEncoder\n",
    "labelencoder_y = LabelEncoder()\n",
    "data1['smoker'] = labelencoder_y.fit_transform(data1['smoker'])"
   ]
  },
  {
   "cell_type": "code",
   "execution_count": 11,
   "metadata": {},
   "outputs": [
    {
     "data": {
      "text/html": [
       "<div>\n",
       "<style scoped>\n",
       "    .dataframe tbody tr th:only-of-type {\n",
       "        vertical-align: middle;\n",
       "    }\n",
       "\n",
       "    .dataframe tbody tr th {\n",
       "        vertical-align: top;\n",
       "    }\n",
       "\n",
       "    .dataframe thead th {\n",
       "        text-align: right;\n",
       "    }\n",
       "</style>\n",
       "<table border=\"1\" class=\"dataframe\">\n",
       "  <thead>\n",
       "    <tr style=\"text-align: right;\">\n",
       "      <th></th>\n",
       "      <th>age</th>\n",
       "      <th>sex</th>\n",
       "      <th>bmi</th>\n",
       "      <th>children</th>\n",
       "      <th>smoker</th>\n",
       "      <th>region</th>\n",
       "      <th>charges</th>\n",
       "    </tr>\n",
       "  </thead>\n",
       "  <tbody>\n",
       "    <tr>\n",
       "      <th>0</th>\n",
       "      <td>19</td>\n",
       "      <td>female</td>\n",
       "      <td>27.900</td>\n",
       "      <td>0</td>\n",
       "      <td>1</td>\n",
       "      <td>3</td>\n",
       "      <td>16884.92400</td>\n",
       "    </tr>\n",
       "    <tr>\n",
       "      <th>1</th>\n",
       "      <td>18</td>\n",
       "      <td>male</td>\n",
       "      <td>33.770</td>\n",
       "      <td>1</td>\n",
       "      <td>0</td>\n",
       "      <td>2</td>\n",
       "      <td>1725.55230</td>\n",
       "    </tr>\n",
       "    <tr>\n",
       "      <th>2</th>\n",
       "      <td>28</td>\n",
       "      <td>male</td>\n",
       "      <td>33.000</td>\n",
       "      <td>3</td>\n",
       "      <td>0</td>\n",
       "      <td>2</td>\n",
       "      <td>4449.46200</td>\n",
       "    </tr>\n",
       "    <tr>\n",
       "      <th>3</th>\n",
       "      <td>33</td>\n",
       "      <td>male</td>\n",
       "      <td>22.705</td>\n",
       "      <td>0</td>\n",
       "      <td>0</td>\n",
       "      <td>1</td>\n",
       "      <td>21984.47061</td>\n",
       "    </tr>\n",
       "    <tr>\n",
       "      <th>4</th>\n",
       "      <td>32</td>\n",
       "      <td>male</td>\n",
       "      <td>28.880</td>\n",
       "      <td>0</td>\n",
       "      <td>0</td>\n",
       "      <td>1</td>\n",
       "      <td>3866.85520</td>\n",
       "    </tr>\n",
       "    <tr>\n",
       "      <th>...</th>\n",
       "      <td>...</td>\n",
       "      <td>...</td>\n",
       "      <td>...</td>\n",
       "      <td>...</td>\n",
       "      <td>...</td>\n",
       "      <td>...</td>\n",
       "      <td>...</td>\n",
       "    </tr>\n",
       "    <tr>\n",
       "      <th>1333</th>\n",
       "      <td>50</td>\n",
       "      <td>male</td>\n",
       "      <td>30.970</td>\n",
       "      <td>3</td>\n",
       "      <td>0</td>\n",
       "      <td>1</td>\n",
       "      <td>10600.54830</td>\n",
       "    </tr>\n",
       "    <tr>\n",
       "      <th>1334</th>\n",
       "      <td>18</td>\n",
       "      <td>female</td>\n",
       "      <td>31.920</td>\n",
       "      <td>0</td>\n",
       "      <td>0</td>\n",
       "      <td>0</td>\n",
       "      <td>2205.98080</td>\n",
       "    </tr>\n",
       "    <tr>\n",
       "      <th>1335</th>\n",
       "      <td>18</td>\n",
       "      <td>female</td>\n",
       "      <td>36.850</td>\n",
       "      <td>0</td>\n",
       "      <td>0</td>\n",
       "      <td>2</td>\n",
       "      <td>1629.83350</td>\n",
       "    </tr>\n",
       "    <tr>\n",
       "      <th>1336</th>\n",
       "      <td>21</td>\n",
       "      <td>female</td>\n",
       "      <td>25.800</td>\n",
       "      <td>0</td>\n",
       "      <td>0</td>\n",
       "      <td>3</td>\n",
       "      <td>2007.94500</td>\n",
       "    </tr>\n",
       "    <tr>\n",
       "      <th>1337</th>\n",
       "      <td>61</td>\n",
       "      <td>female</td>\n",
       "      <td>29.070</td>\n",
       "      <td>0</td>\n",
       "      <td>1</td>\n",
       "      <td>1</td>\n",
       "      <td>29141.36030</td>\n",
       "    </tr>\n",
       "  </tbody>\n",
       "</table>\n",
       "<p>1338 rows × 7 columns</p>\n",
       "</div>"
      ],
      "text/plain": [
       "      age     sex     bmi  children  smoker  region      charges\n",
       "0      19  female  27.900         0       1       3  16884.92400\n",
       "1      18    male  33.770         1       0       2   1725.55230\n",
       "2      28    male  33.000         3       0       2   4449.46200\n",
       "3      33    male  22.705         0       0       1  21984.47061\n",
       "4      32    male  28.880         0       0       1   3866.85520\n",
       "...   ...     ...     ...       ...     ...     ...          ...\n",
       "1333   50    male  30.970         3       0       1  10600.54830\n",
       "1334   18  female  31.920         0       0       0   2205.98080\n",
       "1335   18  female  36.850         0       0       2   1629.83350\n",
       "1336   21  female  25.800         0       0       3   2007.94500\n",
       "1337   61  female  29.070         0       1       1  29141.36030\n",
       "\n",
       "[1338 rows x 7 columns]"
      ]
     },
     "execution_count": 11,
     "metadata": {},
     "output_type": "execute_result"
    }
   ],
   "source": [
    "data1"
   ]
  },
  {
   "cell_type": "code",
   "execution_count": 12,
   "metadata": {},
   "outputs": [],
   "source": [
    "from sklearn.preprocessing import LabelEncoder\n",
    "labelencoder_y = LabelEncoder()\n",
    "data1['sex'] = labelencoder_y.fit_transform(data1['sex'])"
   ]
  },
  {
   "cell_type": "code",
   "execution_count": 13,
   "metadata": {},
   "outputs": [
    {
     "data": {
      "text/html": [
       "<div>\n",
       "<style scoped>\n",
       "    .dataframe tbody tr th:only-of-type {\n",
       "        vertical-align: middle;\n",
       "    }\n",
       "\n",
       "    .dataframe tbody tr th {\n",
       "        vertical-align: top;\n",
       "    }\n",
       "\n",
       "    .dataframe thead th {\n",
       "        text-align: right;\n",
       "    }\n",
       "</style>\n",
       "<table border=\"1\" class=\"dataframe\">\n",
       "  <thead>\n",
       "    <tr style=\"text-align: right;\">\n",
       "      <th></th>\n",
       "      <th>age</th>\n",
       "      <th>sex</th>\n",
       "      <th>bmi</th>\n",
       "      <th>children</th>\n",
       "      <th>smoker</th>\n",
       "      <th>region</th>\n",
       "      <th>charges</th>\n",
       "    </tr>\n",
       "  </thead>\n",
       "  <tbody>\n",
       "    <tr>\n",
       "      <th>0</th>\n",
       "      <td>19</td>\n",
       "      <td>0</td>\n",
       "      <td>27.900</td>\n",
       "      <td>0</td>\n",
       "      <td>1</td>\n",
       "      <td>3</td>\n",
       "      <td>16884.92400</td>\n",
       "    </tr>\n",
       "    <tr>\n",
       "      <th>1</th>\n",
       "      <td>18</td>\n",
       "      <td>1</td>\n",
       "      <td>33.770</td>\n",
       "      <td>1</td>\n",
       "      <td>0</td>\n",
       "      <td>2</td>\n",
       "      <td>1725.55230</td>\n",
       "    </tr>\n",
       "    <tr>\n",
       "      <th>2</th>\n",
       "      <td>28</td>\n",
       "      <td>1</td>\n",
       "      <td>33.000</td>\n",
       "      <td>3</td>\n",
       "      <td>0</td>\n",
       "      <td>2</td>\n",
       "      <td>4449.46200</td>\n",
       "    </tr>\n",
       "    <tr>\n",
       "      <th>3</th>\n",
       "      <td>33</td>\n",
       "      <td>1</td>\n",
       "      <td>22.705</td>\n",
       "      <td>0</td>\n",
       "      <td>0</td>\n",
       "      <td>1</td>\n",
       "      <td>21984.47061</td>\n",
       "    </tr>\n",
       "    <tr>\n",
       "      <th>4</th>\n",
       "      <td>32</td>\n",
       "      <td>1</td>\n",
       "      <td>28.880</td>\n",
       "      <td>0</td>\n",
       "      <td>0</td>\n",
       "      <td>1</td>\n",
       "      <td>3866.85520</td>\n",
       "    </tr>\n",
       "  </tbody>\n",
       "</table>\n",
       "</div>"
      ],
      "text/plain": [
       "   age  sex     bmi  children  smoker  region      charges\n",
       "0   19    0  27.900         0       1       3  16884.92400\n",
       "1   18    1  33.770         1       0       2   1725.55230\n",
       "2   28    1  33.000         3       0       2   4449.46200\n",
       "3   33    1  22.705         0       0       1  21984.47061\n",
       "4   32    1  28.880         0       0       1   3866.85520"
      ]
     },
     "execution_count": 13,
     "metadata": {},
     "output_type": "execute_result"
    }
   ],
   "source": [
    "data1.head()"
   ]
  },
  {
   "cell_type": "code",
   "execution_count": 14,
   "metadata": {},
   "outputs": [],
   "source": [
    "# splitting dataset in to Independent variable and dependent variable"
   ]
  },
  {
   "cell_type": "code",
   "execution_count": 15,
   "metadata": {},
   "outputs": [],
   "source": [
    "x = data1.iloc[:, 0:6].values\n",
    "y = data1.iloc[:, 6].values"
   ]
  },
  {
   "cell_type": "code",
   "execution_count": 16,
   "metadata": {},
   "outputs": [
    {
     "data": {
      "text/plain": [
       "array([[19.  ,  0.  , 27.9 ,  0.  ,  1.  ,  3.  ],\n",
       "       [18.  ,  1.  , 33.77,  1.  ,  0.  ,  2.  ],\n",
       "       [28.  ,  1.  , 33.  ,  3.  ,  0.  ,  2.  ],\n",
       "       ...,\n",
       "       [18.  ,  0.  , 36.85,  0.  ,  0.  ,  2.  ],\n",
       "       [21.  ,  0.  , 25.8 ,  0.  ,  0.  ,  3.  ],\n",
       "       [61.  ,  0.  , 29.07,  0.  ,  1.  ,  1.  ]])"
      ]
     },
     "execution_count": 16,
     "metadata": {},
     "output_type": "execute_result"
    }
   ],
   "source": [
    "x"
   ]
  },
  {
   "cell_type": "code",
   "execution_count": 17,
   "metadata": {},
   "outputs": [
    {
     "data": {
      "text/plain": [
       "array([16884.924 ,  1725.5523,  4449.462 , ...,  1629.8335,  2007.945 ,\n",
       "       29141.3603])"
      ]
     },
     "execution_count": 17,
     "metadata": {},
     "output_type": "execute_result"
    }
   ],
   "source": [
    "y"
   ]
  },
  {
   "cell_type": "markdown",
   "metadata": {},
   "source": [
    "# one Hot Encoding"
   ]
  },
  {
   "cell_type": "code",
   "execution_count": 18,
   "metadata": {},
   "outputs": [
    {
     "ename": "TypeError",
     "evalue": "__init__() got an unexpected keyword argument 'categorical_features'",
     "output_type": "error",
     "traceback": [
      "\u001b[1;31m---------------------------------------------------------------------------\u001b[0m",
      "\u001b[1;31mTypeError\u001b[0m                                 Traceback (most recent call last)",
      "\u001b[1;32m<ipython-input-18-867120e53091>\u001b[0m in \u001b[0;36m<module>\u001b[1;34m\u001b[0m\n\u001b[0;32m      1\u001b[0m \u001b[1;32mfrom\u001b[0m \u001b[0msklearn\u001b[0m\u001b[1;33m.\u001b[0m\u001b[0mpreprocessing\u001b[0m \u001b[1;32mimport\u001b[0m \u001b[0mOneHotEncoder\u001b[0m\u001b[1;33m\u001b[0m\u001b[1;33m\u001b[0m\u001b[0m\n\u001b[1;32m----> 2\u001b[1;33m \u001b[0monehotencoder\u001b[0m\u001b[1;33m=\u001b[0m\u001b[0mOneHotEncoder\u001b[0m\u001b[1;33m(\u001b[0m\u001b[0mcategorical_features\u001b[0m\u001b[1;33m=\u001b[0m\u001b[1;33m[\u001b[0m\u001b[1;36m5\u001b[0m\u001b[1;33m]\u001b[0m\u001b[1;33m)\u001b[0m\u001b[1;33m\u001b[0m\u001b[1;33m\u001b[0m\u001b[0m\n\u001b[0m\u001b[0;32m      3\u001b[0m \u001b[0mx\u001b[0m\u001b[1;33m=\u001b[0m\u001b[0monehotencoder\u001b[0m\u001b[1;33m.\u001b[0m\u001b[0mfit_transform\u001b[0m\u001b[1;33m(\u001b[0m\u001b[0mx\u001b[0m\u001b[1;33m)\u001b[0m\u001b[1;33m.\u001b[0m\u001b[0mtoarray\u001b[0m\u001b[1;33m(\u001b[0m\u001b[1;33m)\u001b[0m\u001b[1;33m\u001b[0m\u001b[1;33m\u001b[0m\u001b[0m\n",
      "\u001b[1;31mTypeError\u001b[0m: __init__() got an unexpected keyword argument 'categorical_features'"
     ]
    }
   ],
   "source": [
    "from sklearn.preprocessing import OneHotEncoder\n",
    "onehotencoder=OneHotEncoder(categorical_features=[5])\n",
    "x=onehotencoder.fit_transform(x).toarray()"
   ]
  },
  {
   "cell_type": "code",
   "execution_count": 19,
   "metadata": {},
   "outputs": [
    {
     "data": {
      "text/plain": [
       "array([[ 0.  , 27.9 ,  0.  ,  1.  ,  3.  ],\n",
       "       [ 1.  , 33.77,  1.  ,  0.  ,  2.  ],\n",
       "       [ 1.  , 33.  ,  3.  ,  0.  ,  2.  ],\n",
       "       ...,\n",
       "       [ 0.  , 36.85,  0.  ,  0.  ,  2.  ],\n",
       "       [ 0.  , 25.8 ,  0.  ,  0.  ,  3.  ],\n",
       "       [ 0.  , 29.07,  0.  ,  1.  ,  1.  ]])"
      ]
     },
     "execution_count": 19,
     "metadata": {},
     "output_type": "execute_result"
    }
   ],
   "source": [
    "x=x[:,1:]\n",
    "x"
   ]
  },
  {
   "cell_type": "markdown",
   "metadata": {},
   "source": [
    "# Splitting The dataset in to Train set and Testing set"
   ]
  },
  {
   "cell_type": "code",
   "execution_count": 20,
   "metadata": {},
   "outputs": [],
   "source": [
    "from sklearn.model_selection import train_test_split \n",
    "X_train,X_test,y_train,y_test = train_test_split(x,y,test_size = 0.25,random_state = 0)"
   ]
  },
  {
   "cell_type": "markdown",
   "metadata": {},
   "source": [
    "# Feature Scaling"
   ]
  },
  {
   "cell_type": "code",
   "execution_count": 21,
   "metadata": {},
   "outputs": [],
   "source": [
    "from sklearn.preprocessing import StandardScaler\n",
    "sc = StandardScaler()\n",
    "X_train = sc.fit_transform(X_train)\n",
    "X_test = sc.transform(X_test)"
   ]
  },
  {
   "cell_type": "code",
   "execution_count": 22,
   "metadata": {},
   "outputs": [
    {
     "data": {
      "text/plain": [
       "array([[-0.98515504, -0.18133104, -0.06360657, -0.50373604,  0.39078149],\n",
       "       [-0.98515504, -1.39313042, -0.89214407, -0.50373604, -1.41962884],\n",
       "       [ 1.01506865, -0.98224215, -0.06360657, -0.50373604,  1.29598666],\n",
       "       ...,\n",
       "       [ 1.01506865, -0.9052006 , -0.89214407, -0.50373604,  0.39078149],\n",
       "       [ 1.01506865,  0.77205813, -0.89214407, -0.50373604, -0.51442367],\n",
       "       [-0.98515504, -1.96131184, -0.06360657, -0.50373604,  1.29598666]])"
      ]
     },
     "execution_count": 22,
     "metadata": {},
     "output_type": "execute_result"
    }
   ],
   "source": [
    "X_train"
   ]
  },
  {
   "cell_type": "code",
   "execution_count": 23,
   "metadata": {},
   "outputs": [
    {
     "data": {
      "text/plain": [
       "array([[ 1.01506865, -0.08342407, -0.06360657, -0.50373604,  1.29598666],\n",
       "       [-0.98515504, -0.21664175, -0.06360657, -0.50373604,  0.39078149],\n",
       "       [ 1.01506865,  1.58019189,  0.76493093,  1.98516667, -0.51442367],\n",
       "       ...,\n",
       "       [ 1.01506865, -0.11070962, -0.06360657, -0.50373604,  0.39078149],\n",
       "       [ 1.01506865,  1.0240482 ,  1.59346844, -0.50373604,  1.29598666],\n",
       "       [-0.98515504, -0.26479272, -0.89214407,  1.98516667, -0.51442367]])"
      ]
     },
     "execution_count": 23,
     "metadata": {},
     "output_type": "execute_result"
    }
   ],
   "source": [
    "X_test"
   ]
  },
  {
   "cell_type": "markdown",
   "metadata": {},
   "source": [
    "# Multiple Linear Regression"
   ]
  },
  {
   "cell_type": "code",
   "execution_count": 24,
   "metadata": {},
   "outputs": [],
   "source": [
    "X = X_train[:,:]\n",
    "y = y_train[:]"
   ]
  },
  {
   "cell_type": "code",
   "execution_count": 25,
   "metadata": {},
   "outputs": [
    {
     "data": {
      "text/html": [
       "<table class=\"simpletable\">\n",
       "<caption>OLS Regression Results</caption>\n",
       "<tr>\n",
       "  <th>Dep. Variable:</th>            <td>y</td>        <th>  R-squared (uncentered):</th>      <td>   0.292</td> \n",
       "</tr>\n",
       "<tr>\n",
       "  <th>Model:</th>                   <td>OLS</td>       <th>  Adj. R-squared (uncentered):</th> <td>   0.288</td> \n",
       "</tr>\n",
       "<tr>\n",
       "  <th>Method:</th>             <td>Least Squares</td>  <th>  F-statistic:       </th>          <td>   82.31</td> \n",
       "</tr>\n",
       "<tr>\n",
       "  <th>Date:</th>             <td>Tue, 19 May 2020</td> <th>  Prob (F-statistic):</th>          <td>2.00e-72</td> \n",
       "</tr>\n",
       "<tr>\n",
       "  <th>Time:</th>                 <td>11:29:28</td>     <th>  Log-Likelihood:    </th>          <td> -11067.</td> \n",
       "</tr>\n",
       "<tr>\n",
       "  <th>No. Observations:</th>      <td>  1003</td>      <th>  AIC:               </th>          <td>2.214e+04</td>\n",
       "</tr>\n",
       "<tr>\n",
       "  <th>Df Residuals:</th>          <td>   998</td>      <th>  BIC:               </th>          <td>2.217e+04</td>\n",
       "</tr>\n",
       "<tr>\n",
       "  <th>Df Model:</th>              <td>     5</td>      <th>                     </th>              <td> </td>    \n",
       "</tr>\n",
       "<tr>\n",
       "  <th>Covariance Type:</th>      <td>nonrobust</td>    <th>                     </th>              <td> </td>    \n",
       "</tr>\n",
       "</table>\n",
       "<table class=\"simpletable\">\n",
       "<tr>\n",
       "   <td></td>     <th>coef</th>     <th>std err</th>      <th>t</th>      <th>P>|t|</th>  <th>[0.025</th>    <th>0.975]</th>  \n",
       "</tr>\n",
       "<tr>\n",
       "  <th>x1</th> <td>  -41.0545</td> <td>  476.136</td> <td>   -0.086</td> <td> 0.931</td> <td> -975.396</td> <td>  893.287</td>\n",
       "</tr>\n",
       "<tr>\n",
       "  <th>x2</th> <td> 2423.4603</td> <td>  479.803</td> <td>    5.051</td> <td> 0.000</td> <td> 1481.922</td> <td> 3364.998</td>\n",
       "</tr>\n",
       "<tr>\n",
       "  <th>x3</th> <td>  780.6741</td> <td>  475.190</td> <td>    1.643</td> <td> 0.101</td> <td> -151.812</td> <td> 1713.161</td>\n",
       "</tr>\n",
       "<tr>\n",
       "  <th>x4</th> <td> 9294.7885</td> <td>  476.091</td> <td>   19.523</td> <td> 0.000</td> <td> 8360.533</td> <td> 1.02e+04</td>\n",
       "</tr>\n",
       "<tr>\n",
       "  <th>x5</th> <td> -538.5076</td> <td>  479.869</td> <td>   -1.122</td> <td> 0.262</td> <td>-1480.176</td> <td>  403.160</td>\n",
       "</tr>\n",
       "</table>\n",
       "<table class=\"simpletable\">\n",
       "<tr>\n",
       "  <th>Omnibus:</th>       <td>144.274</td> <th>  Durbin-Watson:     </th> <td>   0.446</td>\n",
       "</tr>\n",
       "<tr>\n",
       "  <th>Prob(Omnibus):</th> <td> 0.000</td>  <th>  Jarque-Bera (JB):  </th> <td> 245.897</td>\n",
       "</tr>\n",
       "<tr>\n",
       "  <th>Skew:</th>          <td> 0.918</td>  <th>  Prob(JB):          </th> <td>4.02e-54</td>\n",
       "</tr>\n",
       "<tr>\n",
       "  <th>Kurtosis:</th>      <td> 4.586</td>  <th>  Cond. No.          </th> <td>    1.16</td>\n",
       "</tr>\n",
       "</table><br/><br/>Warnings:<br/>[1] Standard Errors assume that the covariance matrix of the errors is correctly specified."
      ],
      "text/plain": [
       "<class 'statsmodels.iolib.summary.Summary'>\n",
       "\"\"\"\n",
       "                                 OLS Regression Results                                \n",
       "=======================================================================================\n",
       "Dep. Variable:                      y   R-squared (uncentered):                   0.292\n",
       "Model:                            OLS   Adj. R-squared (uncentered):              0.288\n",
       "Method:                 Least Squares   F-statistic:                              82.31\n",
       "Date:                Tue, 19 May 2020   Prob (F-statistic):                    2.00e-72\n",
       "Time:                        11:29:28   Log-Likelihood:                         -11067.\n",
       "No. Observations:                1003   AIC:                                  2.214e+04\n",
       "Df Residuals:                     998   BIC:                                  2.217e+04\n",
       "Df Model:                           5                                                  \n",
       "Covariance Type:            nonrobust                                                  \n",
       "==============================================================================\n",
       "                 coef    std err          t      P>|t|      [0.025      0.975]\n",
       "------------------------------------------------------------------------------\n",
       "x1           -41.0545    476.136     -0.086      0.931    -975.396     893.287\n",
       "x2          2423.4603    479.803      5.051      0.000    1481.922    3364.998\n",
       "x3           780.6741    475.190      1.643      0.101    -151.812    1713.161\n",
       "x4          9294.7885    476.091     19.523      0.000    8360.533    1.02e+04\n",
       "x5          -538.5076    479.869     -1.122      0.262   -1480.176     403.160\n",
       "==============================================================================\n",
       "Omnibus:                      144.274   Durbin-Watson:                   0.446\n",
       "Prob(Omnibus):                  0.000   Jarque-Bera (JB):              245.897\n",
       "Skew:                           0.918   Prob(JB):                     4.02e-54\n",
       "Kurtosis:                       4.586   Cond. No.                         1.16\n",
       "==============================================================================\n",
       "\n",
       "Warnings:\n",
       "[1] Standard Errors assume that the covariance matrix of the errors is correctly specified.\n",
       "\"\"\""
      ]
     },
     "execution_count": 25,
     "metadata": {},
     "output_type": "execute_result"
    }
   ],
   "source": [
    "import statsmodels.api as sm\n",
    "model1 = sm.OLS(y,X).fit()\n",
    "predictions = model1.predict(X)\n",
    "model1.summary()"
   ]
  },
  {
   "cell_type": "code",
   "execution_count": 26,
   "metadata": {},
   "outputs": [],
   "source": [
    "from sklearn import linear_model as lm\n",
    "model=lm.LinearRegression()\n",
    "results=model.fit(X,y) "
   ]
  },
  {
   "cell_type": "code",
   "execution_count": 27,
   "metadata": {},
   "outputs": [],
   "source": [
    "predictions = model.predict(X)"
   ]
  },
  {
   "cell_type": "code",
   "execution_count": 28,
   "metadata": {},
   "outputs": [
    {
     "name": "stdout",
     "output_type": "stream",
     "text": [
      "Accuracy of the model: 0.6488504455925401\n"
     ]
    }
   ],
   "source": [
    "#training accuracy\n",
    "accuracy=model.score(X,y)\n",
    "print('Accuracy of the model:', accuracy)"
   ]
  },
  {
   "cell_type": "code",
   "execution_count": 29,
   "metadata": {},
   "outputs": [
    {
     "name": "stdout",
     "output_type": "stream",
     "text": [
      "Accuracy of the model: 0.6997494064441712\n"
     ]
    }
   ],
   "source": [
    "#testing accuracy\n",
    "accuracy=model.score(X_test,y_test)\n",
    "print('Accuracy of the model:', accuracy)"
   ]
  },
  {
   "cell_type": "code",
   "execution_count": 30,
   "metadata": {},
   "outputs": [],
   "source": [
    "y_=model.predict(X_test)"
   ]
  },
  {
   "cell_type": "code",
   "execution_count": 31,
   "metadata": {},
   "outputs": [
    {
     "data": {
      "text/plain": [
       "array([ 7542.34055099,  7789.07077048, 36329.6096157 , 11052.24333455,\n",
       "        3226.53614952,  4925.21382354,  6928.85957525, 12298.81326928,\n",
       "        9896.90371707, 10147.35769898,  6023.97393968,  7698.08283099,\n",
       "        7507.76669888,  5174.04855309, 30343.01229362,  8612.04877183,\n",
       "        5583.28004645,  9895.46880833,  8798.44326983, 31680.37862178,\n",
       "       30195.50214391, 10654.27920294,  8702.57739841, 29677.05848374,\n",
       "        8771.61697981, 11780.04399545,  3418.37638356, 10494.67909292,\n",
       "        5730.28023886,  9278.82518028,  9305.66444268, 35418.9915476 ,\n",
       "        9696.1298494 ,  9657.23252872, 27808.58408423,  7557.05130428,\n",
       "       11776.73467151, 33087.79867597, 33381.62644439,  8183.45781131,\n",
       "        4416.09265909,  6503.90318396, 30017.51816256, 34925.41633903,\n",
       "       33185.5968094 , 10210.84974715,  8483.68761358,  7006.09938489,\n",
       "        5875.86445219,  5692.50518564, 10254.58049369,  9010.04480549,\n",
       "       29820.42373855, 36178.76456565, 12019.97699339, 10394.17711165,\n",
       "        9413.42277109,  6396.23404873,  8796.67697747,  6230.09783726,\n",
       "        6312.06294993, 33207.27703228, 10455.34803573,  9006.00207616,\n",
       "       13055.35318419, 11241.9094845 , 30536.25553435, 34574.51785431,\n",
       "        5526.36897417, 10720.27058049,  6199.69445645,  7150.72097477,\n",
       "       28901.32470296, 10051.7725668 ,  5554.54079243,  7409.24148569,\n",
       "        3822.63442618,  8867.21508438, 30413.88197146, 33048.90135529,\n",
       "        7889.62339613, 36822.49629331,  8613.38132769,  7542.34055099,\n",
       "       33990.05687181, 29904.47374214, 12369.93178432,  8206.90432655,\n",
       "        6492.11289254, 32013.11035764, 13081.8927777 ,  6778.83079813,\n",
       "       12767.34740984,  7836.86982277, 10098.55747445,  9608.06237177,\n",
       "       31680.37862178, 31322.9825844 , 10247.8022018 , 10824.15214922,\n",
       "        8300.95939954,  9925.34330219,  9847.86130211, 32162.16353892,\n",
       "       32209.56075675,  4556.8245169 ,  3744.83978482,  9730.16816781,\n",
       "       10172.46238375, 31040.67734055,  6497.27788933, 14130.02257286,\n",
       "        8085.93377036, 32086.85562292, 35804.07502236,  8066.47213763,\n",
       "        4352.76025494,  5495.21921558, 10226.25567816,  8078.02023862,\n",
       "       34701.63564988,  3337.39351347, 10672.88633506, 13110.63203172,\n",
       "        6574.23100248,  5370.07818808, 30635.59669935, 29456.45305092,\n",
       "       33802.38710908, 10461.00406016,  8607.0367723 ,  9418.43477062,\n",
       "        8302.51540351,  5331.69082469, 29951.55236141, 30262.73092688,\n",
       "       28354.115844  ,  6168.17476544, 28398.45890072,  7412.57638604,\n",
       "        8621.59452833,  6876.61595917, 11520.012355  ,  9359.50838147,\n",
       "        6599.62238375,  9709.47614479, 10570.22919936,  6515.60428221,\n",
       "        4585.56377091,  7160.98716428,  7945.20191255, 35157.25723155,\n",
       "        9821.56389903,  7963.67497706, 12261.56114574,  7960.21898149,\n",
       "        8964.57948131,  7706.95266055,  9083.94971479, 11338.0494484 ,\n",
       "       11226.0568446 , 11167.69193392,  6256.63743077, 11237.58601593,\n",
       "        4674.75984163, 12279.35163655, 26805.19285462, 10495.22095225,\n",
       "        7715.27398402, 11207.0229911 , 10313.49391046,  8399.04422948,\n",
       "        9434.84819951,  9584.5709821 ,  8874.8734533 , 11316.1010903 ,\n",
       "        6662.27886096,  5269.33401637, 33288.25990236,  6772.83655601,\n",
       "        9841.32520065, 10073.45278968,  9352.43042068,  8728.82992706,\n",
       "        6625.32640631, 30128.3755265 ,  8953.03138032,  6146.36047496,\n",
       "        9028.07152947, 10956.97680092, 32123.80807757,  8649.82382505,\n",
       "        5951.87387154, 28268.5417385 ,  9980.62214972,  5184.04065011,\n",
       "        9507.61786896, 12749.32068586, 11434.43824949,  7892.95829648,\n",
       "        9903.68200897, 31948.22827516, 10247.8022018 , 30297.21558582,\n",
       "        9759.20709072, 33746.84049471,  7623.04268184,  8899.97813807,\n",
       "       10960.32467366, 12365.72941097,  9334.1040278 ,  9035.14949026,\n",
       "        8381.85307645,  8222.35513199,  6997.77806143,  4250.5049537 ,\n",
       "        9267.57674818,  5949.76936148,  8483.68761358,  4712.01196518,\n",
       "       11952.08525587,  7686.8343989 ,  6471.97570123,  5820.28593576,\n",
       "        8105.66316994, 10867.4810613 , 11602.13046493,  5032.77483594,\n",
       "        5791.55928578,  5648.16212893,  7359.644239  , 12592.99799773,\n",
       "        9409.96677552, 11474.6108349 ,  5564.14402739,  8967.10475548,\n",
       "        7982.1543672 , 31828.18844037,  8158.70343981,  7224.77888133,\n",
       "        5966.31053235, 35054.89976475, 10955.19157891,  6448.4776648 ,\n",
       "        9777.83315249,  8890.67457201,  7918.66231903, 10303.08104932,\n",
       "        5709.42857182,  6569.74788989, 30537.81153831, 32183.04710801,\n",
       "        9827.16927908, 12752.3688897 ,  8037.43321473,  5553.40555258,\n",
       "        8903.74677492, 10051.7725668 ,  9094.36257592,  5392.99581638,\n",
       "        5492.04991651, 29746.95256576, 32197.71298687,  9360.94329021,\n",
       "        7819.05338718, 12278.75229877, 35981.79123687,  8195.95556335,\n",
       "       34133.61367268,  9028.33929632, 35384.13695624, 10134.02437598,\n",
       "        9940.63446362,  7919.79755889, 33108.490699  , 10273.20655546,\n",
       "        7830.30181927,  8326.0193972 ,  9371.05648245,  7040.99885068,\n",
       "        6773.97179586, 10054.52705902,  8140.07737804,  8406.95776122,\n",
       "       11669.1866315 ,  9808.4091497 , 12301.75930756, 30303.02460751,\n",
       "       14381.73288984,  6514.16937347,  5435.76989674, 34626.46180149,\n",
       "        7308.79698287,  9564.03195634, 10543.42183899,  9940.63446362,\n",
       "       30578.23296092,  6535.33368179,  7659.03251305,  9229.3620012 ,\n",
       "        8022.1420533 ,  9038.36329539, 27808.88375313, 28479.02100669,\n",
       "        7356.18824343,  6809.78901066,  8901.53414203,  7785.74847416,\n",
       "        9544.27065471, 28252.01354002, 32782.47363826, 12302.16114202,\n",
       "       28060.17330599,  8067.30770859, 11852.28477795,  8942.76519082,\n",
       "        6152.85802761,  5401.46381148,  6735.88410136, 34489.90041498,\n",
       "       11437.35871136,  9940.63446362,  4963.30151804,  8682.58687874,\n",
       "        9538.32793378,  4575.02981456, 32158.58644814, 29493.40550557,\n",
       "        9452.03935254, 34867.77186136, 11326.50134741,  9907.01690931,\n",
       "        7963.67497706, 11519.89125978, 30646.84513145])"
      ]
     },
     "execution_count": 31,
     "metadata": {},
     "output_type": "execute_result"
    }
   ],
   "source": [
    "y_"
   ]
  },
  {
   "cell_type": "code",
   "execution_count": 32,
   "metadata": {},
   "outputs": [
    {
     "data": {
      "text/plain": [
       "<matplotlib.collections.PathCollection at 0x280df69bf88>"
      ]
     },
     "execution_count": 32,
     "metadata": {},
     "output_type": "execute_result"
    },
    {
     "data": {
      "image/png": "[encoded data removed]",
      "text/plain": [
       "<Figure size 432x288 with 1 Axes>"
      ]
     },
     "metadata": {
      "needs_background": "light"
     },
     "output_type": "display_data"
    }
   ],
   "source": [
    "plt.scatter(y_test, y_)"
   ]
  },
  {
   "cell_type": "code",
   "execution_count": 33,
   "metadata": {},
   "outputs": [
    {
     "name": "stdout",
     "output_type": "stream",
     "text": [
      "Slope: [ -41.05446316 2423.46033159  780.6741269  9294.7884826  -538.50761203]\n",
      "Intercept: 13215.863224207355\n",
      "\n",
      "\n",
      "The model performance\n",
      "--------------------------------------\n",
      "RMSE is 6875.304059571974\n",
      "R2 score is 0.6997494064441712\n",
      "\n",
      "\n"
     ]
    }
   ],
   "source": [
    "#Evaluating the model \n",
    "from sklearn.metrics import mean_squared_error, r2_score\n",
    "\n",
    "# printing values\n",
    "print('Slope:' ,model.coef_)\n",
    "print('Intercept:', model.intercept_)\n",
    "print(\"\\n\")\n",
    "\n",
    "\n",
    "import numpy as np\n",
    "rmse = (np.sqrt(mean_squared_error(y_test,y_)))\n",
    "r2 = r2_score(y_test,y_)\n",
    "\n",
    "print(\"The model performance\")\n",
    "print(\"--------------------------------------\")\n",
    "print('RMSE is {}'.format(rmse))\n",
    "print('R2 score is {}'.format(r2))\n",
    "print(\"\\n\")"
   ]
  },
  {
   "cell_type": "code",
   "execution_count": 34,
   "metadata": {},
   "outputs": [
    {
     "data": {
      "text/plain": [
       "RandomForestRegressor(bootstrap=True, ccp_alpha=0.0, criterion='mse',\n",
       "                      max_depth=None, max_features='auto', max_leaf_nodes=None,\n",
       "                      max_samples=None, min_impurity_decrease=0.0,\n",
       "                      min_impurity_split=None, min_samples_leaf=1,\n",
       "                      min_samples_split=2, min_weight_fraction_leaf=0.0,\n",
       "                      n_estimators=100, n_jobs=None, oob_score=False,\n",
       "                      random_state=0, verbose=0, warm_start=False)"
      ]
     },
     "execution_count": 34,
     "metadata": {},
     "output_type": "execute_result"
    }
   ],
   "source": [
    "#Fit Random forest regressor to the dataset\n",
    "# import the regressor \n",
    "from sklearn.ensemble import RandomForestRegressor \n",
    "# create regressor object \n",
    "regressor = RandomForestRegressor(n_estimators = 100, random_state = 0)\n",
    "# fit the regressor with x and y data \n",
    "regressor.fit(X_train, y_train)   "
   ]
  },
  {
   "cell_type": "code",
   "execution_count": 35,
   "metadata": {},
   "outputs": [],
   "source": [
    "y_pred = regressor.predict(X_test)"
   ]
  },
  {
   "cell_type": "code",
   "execution_count": 36,
   "metadata": {},
   "outputs": [
    {
     "data": {
      "text/plain": [
       "array([ 6553.4359235 ,  4363.824042  , 46089.3611975 , 10872.49923893,\n",
       "        6644.1200756 ,  5803.6841051 , 10871.4442196 , 13275.7033459 ,\n",
       "        8072.2634363 ,  9732.2106688 ,  5826.6509239 ,  8678.2241387 ,\n",
       "        4486.977707  ,  7617.423626  , 26079.3039842 , 10057.567519  ,\n",
       "        7558.268634  , 11239.2608292 ,  7373.8130743 , 38221.067024  ,\n",
       "       21412.143315  ,  7544.86330665,  4473.3581765 , 22726.4851225 ,\n",
       "        5225.5744394 , 19091.96956755,  5541.0134735 , 10709.39157   ,\n",
       "       10165.8910451 ,  9248.558437  ,  9889.978137  , 45241.802881  ,\n",
       "       16742.899228  , 12489.628661  , 19735.8843022 ,  5657.6055157 ,\n",
       "        9073.58602383, 39320.6974792 , 38681.0373791 ,  7999.9631474 ,\n",
       "        9563.5955538 ,  4512.7109157 , 22102.050542  , 43165.1155527 ,\n",
       "       44218.73124902,  9011.87614873, 10021.1903685 ,  6830.8297801 ,\n",
       "       10978.2859698 ,  7694.9240418 ,  7155.6195834 ,  8699.054591  ,\n",
       "       20473.9093363 , 46417.05802654,  8689.6945127 ,  8703.770767  ,\n",
       "        5784.7644497 ,  8393.1724011 , 11756.2029247 ,  7892.6471347 ,\n",
       "       11447.8919737 , 41206.0869255 ,  7187.9475705 ,  8078.9632979 ,\n",
       "       15192.4229627 ,  6284.0234405 , 47872.1471595 , 51951.8542311 ,\n",
       "        9341.3417861 , 10536.7492856 ,  9749.3190594 ,  6053.5540662 ,\n",
       "       18610.945439  ,  7564.2690746 ,  5250.8616263 , 13790.7448252 ,\n",
       "        5245.7486001 ,  8945.975419  , 21299.9143965 , 39261.4953547 ,\n",
       "        3172.7603    , 47640.45114588,  8489.520707  ,  6553.4359235 ,\n",
       "       43514.9371763 , 23219.4800985 ,  8681.8188931 ,  6008.8895061 ,\n",
       "        7047.67894932, 38484.8802151 , 15184.55701853, 14559.0612889 ,\n",
       "        8405.1065864 ,  9498.407865  , 11410.8036113 ,  8737.33770457,\n",
       "       38221.067024  , 44593.1730732 ,  8941.25508323,  6868.8168725 ,\n",
       "        5924.8773732 ,  6113.6014344 ,  6496.32542513, 41411.1314451 ,\n",
       "       25088.888543  ,  8459.3934205 ,  5787.74578   ,  4711.8905045 ,\n",
       "       10537.655147  , 35511.8454245 ,  6882.9890617 ,  6127.373591  ,\n",
       "        5649.530913  , 36277.0696561 , 43504.7739185 ,  8397.526113  ,\n",
       "        5888.286951  ,  8103.07043372,  4928.888129  , 13322.9983474 ,\n",
       "       48143.6854422 , 11534.7402866 ,  8699.387168  , 18356.06725565,\n",
       "        9463.8541295 ,  7160.2738995 , 27860.1115031 , 25266.25541917,\n",
       "       38933.0478741 , 10690.0931237 ,  8813.2634259 ,  6179.4471674 ,\n",
       "        7360.591652  ,  7660.7561609 , 34427.1386686 , 39010.6925915 ,\n",
       "       21003.2653134 ,  7240.4937803 , 25671.56542807, 11280.2594575 ,\n",
       "        7997.4491034 ,  6108.04316698, 12299.3055979 , 11499.0454156 ,\n",
       "        7126.0928965 ,  6106.850831  ,  8767.1095537 ,  8992.7842565 ,\n",
       "        6169.1757219 , 10797.6162659 , 11868.7001268 , 42993.6627215 ,\n",
       "       11314.86921539,  5659.26827768,  9794.9532332 ,  4293.7163005 ,\n",
       "        7078.9446442 ,  5349.1815711 ,  9260.8786125 ,  8821.4146539 ,\n",
       "       13724.0130138 ,  8699.099299  ,  4966.7426155 ,  9448.3811314 ,\n",
       "        7096.7583658 , 13221.145034  , 19196.9597144 , 12908.18177677,\n",
       "        9087.454343  ,  8875.094759  , 11096.995871  ,  9669.5555042 ,\n",
       "       17348.7370343 ,  8886.9386693 ,  6684.0748305 , 13538.5415538 ,\n",
       "        6794.2000755 ,  8340.3597539 , 22652.5402093 ,  4219.08249086,\n",
       "        9482.0200672 ,  8609.4586333 ,  9414.3872868 ,  3737.4508365 ,\n",
       "        6794.2000755 , 22802.4054386 , 11791.8175876 , 11700.9066312 ,\n",
       "        6875.7016045 , 15136.65174195, 36644.3428742 ,  8939.7818329 ,\n",
       "        7572.308249  , 21018.0993062 ,  5608.0943629 ,  6098.1793582 ,\n",
       "       18639.8628212 , 16360.26877438,  7720.6653145 ,  8446.2241827 ,\n",
       "        9401.96897419, 41129.3416158 ,  8941.25508323, 23144.6603382 ,\n",
       "        9187.7698365 , 43207.03868226, 11309.9091399 ,  2740.8216955 ,\n",
       "        8768.9722991 ,  7157.7239354 , 10206.7938701 ,  9248.7216406 ,\n",
       "       11221.5005798 ,  5511.8142886 ,  7737.0547115 ,  8691.175425  ,\n",
       "        8943.962071  ,  7407.4918171 , 10021.1903685 ,  6333.1244684 ,\n",
       "       15584.57935086,  8515.5665388 ,  3843.9119005 ,  7010.1940872 ,\n",
       "        8054.9708508 , 10393.6183703 , 12427.5830909 ,  8453.246756  ,\n",
       "        8296.0355319 , 10055.160023  ,  7151.40907551, 12346.5836028 ,\n",
       "        7493.653552  , 16533.97032027,  8488.7210636 ,  8068.2559299 ,\n",
       "       14608.8658116 , 37816.009587  ,  7859.2096044 ,  6448.1525329 ,\n",
       "       16357.91753905, 49035.0691482 ,  9516.54466558,  5541.3553905 ,\n",
       "       10082.38759833,  5916.8381454 ,  9388.3456162 ,  7708.433821  ,\n",
       "       10564.7830143 ,  8896.2178113 , 19980.357902  , 41569.442351  ,\n",
       "       11858.80514275,  9068.672546  ,  5476.567094  ,  4518.7752776 ,\n",
       "        5681.6213617 ,  7564.2690746 , 14800.2116196 , 12627.2457601 ,\n",
       "        5992.967703  , 20747.116886  , 36711.4584442 , 17000.6486872 ,\n",
       "        4489.836747  ,  3945.730973  , 43963.18530788, 11791.9510205 ,\n",
       "       43972.9924817 ,  7311.6286355 , 45396.9144888 , 11909.90715975,\n",
       "       10068.7451637 , 12367.9210629 , 42384.1503262 ,  8843.059799  ,\n",
       "        6946.1328271 ,  8254.014269  , 10012.8676141 ,  7117.3550475 ,\n",
       "        9938.0524671 ,  9409.8668942 , 10486.4859345 , 15791.5991381 ,\n",
       "       20168.93383245,  8041.8566046 , 12363.5035251 , 21309.538878  ,\n",
       "        8769.9459691 ,  6505.4408735 ,  5831.1213905 , 44137.8749034 ,\n",
       "        5112.3240655 ,  9241.9796458 ,  7521.48549945, 10068.7451637 ,\n",
       "       37335.844576  , 10505.9197503 ,  5586.2870565 , 12214.6907635 ,\n",
       "        3246.03343627,  8644.6147935 , 19642.974049  , 23768.3502194 ,\n",
       "        4791.901513  ,  9091.9507966 ,  8537.622628  , 10047.08368105,\n",
       "       12104.4200669 , 16830.99879745, 22903.317244  , 11264.15657846,\n",
       "       21060.5708535 ,  9734.8233719 ,  7681.3334077 ,  4089.1395465 ,\n",
       "       11066.9314962 ,  8656.8364685 ,  3842.42759736, 45699.20504031,\n",
       "       13839.59174409, 10068.7451637 ,  3535.5603775 ,  4351.9951124 ,\n",
       "        4575.0469445 , 12612.7220364 , 39662.250516  , 24906.14618667,\n",
       "        8694.30483887, 42772.97063519, 12951.62908265,  9477.2061877 ,\n",
       "        5659.26827768, 11163.08748866, 19770.9297441 ])"
      ]
     },
     "execution_count": 36,
     "metadata": {},
     "output_type": "execute_result"
    }
   ],
   "source": [
    "y_pred"
   ]
  },
  {
   "cell_type": "code",
   "execution_count": 37,
   "metadata": {},
   "outputs": [
    {
     "data": {
      "text/plain": [
       "<matplotlib.collections.PathCollection at 0x280e0941288>"
      ]
     },
     "execution_count": 37,
     "metadata": {},
     "output_type": "execute_result"
    },
    {
     "data": {
      "image/png": "[encoded data removed]",
      "text/plain": [
       "<Figure size 432x288 with 1 Axes>"
      ]
     },
     "metadata": {
      "needs_background": "light"
     },
     "output_type": "display_data"
    }
   ],
   "source": [
    "plt.scatter(y_test, y_pred)"
   ]
  },
  {
   "cell_type": "code",
   "execution_count": 38,
   "metadata": {},
   "outputs": [
    {
     "name": "stdout",
     "output_type": "stream",
     "text": [
      "Accuracy of the model: 0.9480122702877938\n"
     ]
    }
   ],
   "source": [
    "#training accurcy\n",
    "accuracy=regressor.score(X_train,y_train)\n",
    "print('Accuracy of the model:', accuracy)"
   ]
  },
  {
   "cell_type": "code",
   "execution_count": 39,
   "metadata": {},
   "outputs": [
    {
     "data": {
      "text/plain": [
       "0.751577025434125"
      ]
     },
     "execution_count": 39,
     "metadata": {},
     "output_type": "execute_result"
    }
   ],
   "source": [
    "#testing accuracy\n",
    "accuracy=regressor.score(X_test,y_test)\n",
    "accuracy"
   ]
  },
  {
   "cell_type": "markdown",
   "metadata": {},
   "source": [
    "# Regression with Decision Trees"
   ]
  },
  {
   "cell_type": "code",
   "execution_count": 40,
   "metadata": {},
   "outputs": [
    {
     "data": {
      "text/plain": [
       "DecisionTreeRegressor(ccp_alpha=0.0, criterion='mse', max_depth=None,\n",
       "                      max_features=None, max_leaf_nodes=None,\n",
       "                      min_impurity_decrease=0.0, min_impurity_split=None,\n",
       "                      min_samples_leaf=1, min_samples_split=2,\n",
       "                      min_weight_fraction_leaf=0.0, presort='deprecated',\n",
       "                      random_state=0, splitter='best')"
      ]
     },
     "execution_count": 40,
     "metadata": {},
     "output_type": "execute_result"
    }
   ],
   "source": [
    "#Fit Decision Tree Rgerssion Model to the dataset\n",
    "from sklearn.tree import DecisionTreeRegressor\n",
    "#Create the Decision Tree regressor object \n",
    "regressor = DecisionTreeRegressor(random_state=0)\n",
    "#Fit the regressor object to the dataset.\n",
    "regressor.fit(X_train,y_train)"
   ]
  },
  {
   "cell_type": "code",
   "execution_count": 41,
   "metadata": {},
   "outputs": [],
   "source": [
    "y_pred = regressor.predict(X_test)"
   ]
  },
  {
   "cell_type": "code",
   "execution_count": 42,
   "metadata": {},
   "outputs": [
    {
     "data": {
      "text/plain": [
       "array([ 6849.026   ,  4350.5144  , 48549.17835 ,  6948.7008  ,\n",
       "        5116.5004  ,  1702.4553  , 12815.44495 , 10848.1343  ,\n",
       "        4618.0799  , 10600.5483  ,  4827.90495 ,  7201.70085 ,\n",
       "        1744.465   ,  2842.76075 , 17751.4759  , 14001.1338  ,\n",
       "        9863.4718  , 11763.0009  ,  4438.2634  , 33750.2918  ,\n",
       "       21259.37795 ,  3579.8287  ,  4347.02335 , 20234.85475 ,\n",
       "        1136.3994  , 31620.00106 ,  1621.3402  , 27322.73386 ,\n",
       "       12142.5786  ,  3481.868   , 12096.6512  , 48673.5588  ,\n",
       "       21797.0004  ,  1141.4451  , 22412.6485  ,  2200.83085 ,\n",
       "        4463.2051  , 41676.0811  , 43813.8661  ,  4151.0287  ,\n",
       "        7526.70645 ,  1635.73365 , 15518.18025 , 42760.5022  ,\n",
       "       46642.771005, 15612.19335 , 14001.1338  ,  6389.37785 ,\n",
       "       13725.47184 ,  2201.0971  ,  9866.30485 ,  7281.5056  ,\n",
       "       17560.37975 , 47896.79135 , 11093.6229  , 12404.8791  ,\n",
       "        1263.249   ,  7419.4779  , 25992.82104 ,  9863.4718  ,\n",
       "       12146.971   , 40720.55105 ,  4449.462   ,  7441.501   ,\n",
       "       26467.09737 , 13470.86    , 62592.87309 , 60021.39897 ,\n",
       "       11013.7119  ,  3877.30425 , 13126.67745 ,  5484.4673  ,\n",
       "       24393.6224  ,  2219.4451  ,  2201.0971  , 25656.57526 ,\n",
       "        1628.4709  , 12928.7911  , 21348.706   , 41676.0811  ,\n",
       "        2921.30515 , 63770.42801 ,  8835.26495 ,  6849.026   ,\n",
       "       47055.5321  , 21978.6769  , 13063.883   ,  1526.312   ,\n",
       "        4746.344   , 35585.576   ,  7265.7025  , 20420.60465 ,\n",
       "        7650.77375 ,  8516.829   , 12404.8791  ,  8964.06055 ,\n",
       "       33750.2918  , 62592.87309 , 15612.19335 , 10601.412   ,\n",
       "        2497.0383  ,  4462.7218  ,  2801.2588  , 43254.41795 ,\n",
       "       28868.6639  , 12957.118   ,  1628.4709  ,  2020.5523  ,\n",
       "       12404.8791  , 34472.841   ,  4296.2712  ,  6356.2707  ,\n",
       "        1743.214   , 33750.2918  , 47462.894   , 11244.3769  ,\n",
       "        6272.4772  , 10355.641   ,  3277.161   ,  7201.70085 ,\n",
       "       49577.6624  , 21595.38229 , 13470.86    ,  5989.52365 ,\n",
       "        5003.853   ,  9193.8385  , 21348.706   , 24873.3849  ,\n",
       "       38126.2465  ,  6948.7008  , 12925.886   ,  6289.7549  ,\n",
       "       11671.3325  ,  8688.85885 , 62592.87309 , 39727.614   ,\n",
       "       17904.52705 , 11013.7119  , 25604.068285, 13937.6665  ,\n",
       "       11842.62375 ,  4747.0529  ,  8978.1851  , 13555.0049  ,\n",
       "        7045.499   ,  7731.85785 , 12235.8392  , 10156.7832  ,\n",
       "        1628.4709  , 12913.9924  ,  9447.25035 , 47462.894   ,\n",
       "       11763.0009  ,  4074.4537  , 10579.711   ,  4435.5068  ,\n",
       "        3659.346   ,  2902.9065  ,  7281.5056  ,  4466.6214  ,\n",
       "       11289.10925 ,  7804.1605  ,  5266.3656  , 10450.552   ,\n",
       "        1625.43375 ,  7261.741   , 20167.33603 , 18804.7524  ,\n",
       "       10106.13425 , 11090.7178  , 11289.10925 ,  4661.28635 ,\n",
       "       24059.68019 ,  8124.4084  ,  5253.524   , 12949.1554  ,\n",
       "        5209.57885 ,  6272.4772  , 18648.4217  ,  2586.5367  ,\n",
       "        7209.4918  ,  3877.30425 , 19673.33573 ,  1136.3994  ,\n",
       "        5209.57885 , 15518.18025 , 13974.45555 ,  5385.3379  ,\n",
       "        6571.02435 , 19442.3535  , 33750.2918  , 12925.886   ,\n",
       "        8742.8275  , 15817.9857  ,  1646.4297  ,  2584.6995  ,\n",
       "        9620.3307  , 19144.57652 ,  8978.1851  ,  6393.60345 ,\n",
       "       11763.0009  , 43254.41795 , 15612.19335 , 25382.297   ,\n",
       "        8116.26885 , 46642.771005,  8604.48365 ,  1137.011   ,\n",
       "        4889.9995  ,  4536.259   , 11385.1932  ,  2205.9808  ,\n",
       "        7201.70085 ,  3172.018   ,  8703.456   , 11345.519   ,\n",
       "        8606.2174  , 13725.47184 , 14001.1338  ,  6933.24225 ,\n",
       "       11264.541   , 10156.7832  ,  1743.214   ,  4992.3764  ,\n",
       "        7345.084   ,  6948.7008  ,  8978.1851  ,  1838.86075 ,\n",
       "       11013.7119  , 12142.5786  , 10231.4999  , 31620.00106 ,\n",
       "       14474.675   , 13430.265   ,  2201.0971  ,  7441.501   ,\n",
       "        9447.25035 , 33750.2918  ,  9957.7216  ,  4719.73655 ,\n",
       "       18955.22017 , 42760.5022  , 12646.207   ,  2196.4732  ,\n",
       "        3481.868   ,  5488.262   ,  9225.2564  ,  9583.8933  ,\n",
       "       10197.7722  , 23288.9284  , 28868.6639  , 47291.055   ,\n",
       "       21741.076015, 11093.6229  , 10796.35025 ,  1704.70015 ,\n",
       "        6289.7549  ,  2219.4451  , 14382.70905 , 25081.76784 ,\n",
       "       11013.7119  , 18223.4512  , 33750.2918  , 18804.7524  ,\n",
       "        2639.0429  ,  1984.4533  , 43896.3763  ,  8604.48365 ,\n",
       "       46130.5265  , 10594.2257  , 47896.79135 ,  6082.405   ,\n",
       "       11763.0009  , 14382.70905 , 39278.1975  ,  8823.98575 ,\n",
       "        4134.15195 ,  8965.79575 , 11385.1932  , 11455.28    ,\n",
       "        8601.3293  ,  1646.4297  ,  2897.3235  , 21344.8467  ,\n",
       "       31620.00106 ,  9563.029   , 36580.28216 , 23887.6627  ,\n",
       "        8083.9198  ,  3645.0894  ,  9193.8385  , 37133.8982  ,\n",
       "        3309.7926  , 13844.7972  ,  3579.8287  , 11763.0009  ,\n",
       "       34838.873   ,  5003.853   ,  5373.36425 ,  8068.185   ,\n",
       "        1639.5631  , 12928.7911  , 12829.4551  , 26125.67477 ,\n",
       "        4889.0368  ,  2586.5367  ,  8871.1517  ,  3906.127   ,\n",
       "       10564.8845  , 16657.71745 , 24915.22085 , 11411.685   ,\n",
       "       20167.33603 , 11840.77505 , 11454.8503  ,  1137.011   ,\n",
       "        2196.4732  , 11013.7119  ,  2586.5367  , 40419.0191  ,\n",
       "        3579.8287  , 11763.0009  ,  3176.8159  ,  4151.0287  ,\n",
       "        7345.7266  , 11830.6072  , 37607.5277  , 27037.9141  ,\n",
       "        8964.06055 , 41949.2441  ,  3579.8287  , 25333.33284 ,\n",
       "        4074.4537  , 11264.541   , 17352.6803  ])"
      ]
     },
     "execution_count": 42,
     "metadata": {},
     "output_type": "execute_result"
    }
   ],
   "source": [
    "y_pred"
   ]
  },
  {
   "cell_type": "code",
   "execution_count": 43,
   "metadata": {},
   "outputs": [
    {
     "name": "stdout",
     "output_type": "stream",
     "text": [
      "Accuracy of the model: 0.985389215788959\n"
     ]
    }
   ],
   "source": [
    "#training accuracy\n",
    "accuracy=regressor.score(X_train,y_train)\n",
    "print('Accuracy of the model:', accuracy)"
   ]
  },
  {
   "cell_type": "code",
   "execution_count": 44,
   "metadata": {},
   "outputs": [
    {
     "data": {
      "text/plain": [
       "0.5329139470239296"
      ]
     },
     "execution_count": 44,
     "metadata": {},
     "output_type": "execute_result"
    }
   ],
   "source": [
    "#testung accuracy\n",
    "accuracy=regressor.score(X_test,y_test)\n",
    "accuracy"
   ]
  },
  {
   "cell_type": "markdown",
   "metadata": {},
   "source": [
    "this model is training is good "
   ]
  },
  {
   "cell_type": "code",
   "execution_count": 45,
   "metadata": {},
   "outputs": [
    {
     "data": {
      "text/plain": [
       "<matplotlib.collections.PathCollection at 0x280df711708>"
      ]
     },
     "execution_count": 45,
     "metadata": {},
     "output_type": "execute_result"
    },
    {
     "data": {
      "image/png": "[encoded data removed]",
      "text/plain": [
       "<Figure size 432x288 with 1 Axes>"
      ]
     },
     "metadata": {
      "needs_background": "light"
     },
     "output_type": "display_data"
    }
   ],
   "source": [
    "plt.scatter(y_test, y_pred)"
   ]
  },
  {
   "cell_type": "markdown",
   "metadata": {},
   "source": [
    "# Linear Regression technique"
   ]
  },
  {
   "cell_type": "code",
   "execution_count": 46,
   "metadata": {},
   "outputs": [
    {
     "data": {
      "text/plain": [
       "0.6997494064441712"
      ]
     },
     "execution_count": 46,
     "metadata": {},
     "output_type": "execute_result"
    }
   ],
   "source": [
    "from sklearn.linear_model import LinearRegression\n",
    "lr = LinearRegression()\n",
    "lr.fit(X_train, y_train)\n",
    "y_pred = lr.predict(X_test)\n",
    "\n",
    "#Model Validation\n",
    "r2_score(y_test, y_pred)"
   ]
  },
  {
   "cell_type": "code",
   "execution_count": null,
   "metadata": {},
   "outputs": [],
   "source": []
  }
 ],
 "metadata": {
  "kernelspec": {
   "display_name": "Python 3",
   "language": "python",
   "name": "python3"
  },
  "language_info": {
   "codemirror_mode": {
    "name": "ipython",
    "version": 3
   },
   "file_extension": ".py",
   "mimetype": "text/x-python",
   "name": "python",
   "nbconvert_exporter": "python",
   "pygments_lexer": "ipython3",
   "version": "3.7.6"
  }
 },
 "nbformat": 4,
 "nbformat_minor": 4
}
